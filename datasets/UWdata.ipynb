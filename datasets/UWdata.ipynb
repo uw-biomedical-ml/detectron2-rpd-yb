{
 "cells": [
  {
   "cell_type": "code",
   "execution_count": 11,
   "metadata": {},
   "outputs": [],
   "source": [
    "import pandas as pd\n",
    "import json\n",
    "import os, glob\n",
    "from tqdm import tqdm\n",
    "dataset = []\n"
   ]
  },
  {
   "cell_type": "markdown",
   "metadata": {},
   "source": [
    "# Apply labels to self-supervised set for detectron2 #"
   ]
  },
  {
   "cell_type": "code",
   "execution_count": 1,
   "metadata": {},
   "outputs": [],
   "source": [
    "import pandas as pd\n",
    "df = pd.read_parquet('/data/yelena/oct-semisup/data/dfselfsup.parquet',engine='fastparquet')\n",
    "# dfspecial = df[df.age==90.0100].groupby(['ptid','eye'])['instance'].count().sort_values(ascending=False)\n",
    "# dfspecial[dfspecial>1]\n",
    "df = df[df.age<90.0100] #max age == lots of cross-talk between labels, exclude\n",
    "df = df.drop(columns=['slicei','fpath'])\n",
    "df = df.loc[df.astype(str).drop_duplicates().index]\n",
    "#merge on dx labels\n",
    "dflabels = pd.read_parquet('/data/yelena/oct-semisup/data/dflabels_v2_procedure.parquet',engine='fastparquet')\n",
    "dflabels = dflabels.fillna('NA')"
   ]
  },
  {
   "cell_type": "code",
   "execution_count": 2,
   "metadata": {},
   "outputs": [
    {
     "data": {
      "text/plain": [
       "ptid         1428\n",
       "eye             2\n",
       "age          4591\n",
       "instance     9339\n",
       "diagnosis     339\n",
       "dtype: int64"
      ]
     },
     "execution_count": 2,
     "metadata": {},
     "output_type": "execute_result"
    }
   ],
   "source": [
    "#eyes after injection to exclude\n",
    "inj_eye = dflabels[dflabels['PROC_CODE']== '67028'][['ptid','eye','age']].drop_duplicates()\n",
    "inj_eye = inj_eye.groupby(['ptid','eye']).min()\n",
    "\n",
    "dfexclude = dflabels.merge(inj_eye,on=['ptid','eye'],suffixes=['','_inj']).query('age>=age_inj').drop('age_inj',axis=1)[['ptid','eye','age']].drop_duplicates()\n",
    "dflabels = dflabels[['ptid','eye','age','diagnosis']].groupby(['ptid','eye','age']).aggregate(lambda dx: dx.unique().tolist())\n",
    "df = df.merge(dflabels,how='left', on=['ptid','eye','age']) #this assumes dx is a list\n",
    "#exclude eyes after they've received injection\n",
    "df = df.merge(dfexclude,how='left',on=['ptid','eye','age'],indicator=True).query('_merge==\"left_only\"').drop('_merge',axis=1)\n",
    "#select AMD dx\n",
    "df = df[df.diagnosis.apply(lambda x: 'AMD' in x)]\n",
    "df.astype(str).nunique()"
   ]
  },
  {
   "cell_type": "code",
   "execution_count": 3,
   "metadata": {},
   "outputs": [],
   "source": [
    "#merge on logmar\n",
    "dfva = pd.read_csv('/data/tspaide/ybdino/data/oct_logmars.csv',index_col=0)\n",
    "df = df.merge(dfva[['instance','logmar']],how='inner',on='instance')\n",
    "#filter 20/40 or better\n",
    "df = df[df.logmar<=.3]\n",
    "df.astype(str).nunique()"
   ]
  },
  {
   "cell_type": "code",
   "execution_count": 5,
   "metadata": {},
   "outputs": [],
   "source": [
    "#sample 1 volume per ptid\n",
    "dfsample = df.sample(frac=1,random_state=4).drop_duplicates(subset=['ptid'],keep='first')"
   ]
  },
  {
   "cell_type": "code",
   "execution_count": 6,
   "metadata": {},
   "outputs": [],
   "source": [
    "dfsample.assign(fold='semisup_AMD_preinj_sample').to_parquet('/data/amd-data/cera-rpd/detectron2-rpd/datasets/dfUWAMD_dfsemisup_preinj_sample.parquet')"
   ]
  },
  {
   "cell_type": "code",
   "execution_count": null,
   "metadata": {},
   "outputs": [],
   "source": [
    "#find high frequency volumes for longitudnal study\n",
    "dfcnt = df.groupby(['ptid','eye'])['instance'].count()\n",
    "ptid= dfcnt[dfcnt>20].reset_index().ptid\n",
    "df = df[df.ptid.isin(ptid)]\n",
    "df.astype(str).nunique()\n",
    "#df.assign(fold='semisup_AMD_long_preinj').to_parquet('/data/amd-data/cera-rpd/detectron2-rpd/datasets/dfUWAMD_dfsemisup_long_preinj.parquet')"
   ]
  },
  {
   "cell_type": "markdown",
   "metadata": {},
   "source": [
    "# Read in dataframe of interest"
   ]
  },
  {
   "cell_type": "code",
   "execution_count": null,
   "metadata": {},
   "outputs": [],
   "source": [
    "df = pd.read_parquet('dfUWAMD_eval_train_v2_classify.parquet')\n",
    "df = df.drop(columns = ['slicei','img_path'])\n",
    "df = df.loc[df.astype(str).drop_duplicates().index]\n",
    "df.columns\n"
   ]
  },
  {
   "cell_type": "code",
   "execution_count": 2,
   "metadata": {},
   "outputs": [
    {
     "data": {
      "text/plain": [
       "Index(['ptid', 'eye', 'age', 'instance', 'diagnosis', 'logmar', 'fold'], dtype='object')"
      ]
     },
     "execution_count": 2,
     "metadata": {},
     "output_type": "execute_result"
    }
   ],
   "source": [
    "df = pd.read_parquet('dfUWAMD_dfsemisup_long.parquet')\n",
    "df.columns"
   ]
  },
  {
   "cell_type": "code",
   "execution_count": 8,
   "metadata": {},
   "outputs": [
    {
     "data": {
      "text/html": [
       "<div>\n",
       "<style scoped>\n",
       "    .dataframe tbody tr th:only-of-type {\n",
       "        vertical-align: middle;\n",
       "    }\n",
       "\n",
       "    .dataframe tbody tr th {\n",
       "        vertical-align: top;\n",
       "    }\n",
       "\n",
       "    .dataframe thead th {\n",
       "        text-align: right;\n",
       "    }\n",
       "</style>\n",
       "<table border=\"1\" class=\"dataframe\">\n",
       "  <thead>\n",
       "    <tr style=\"text-align: right;\">\n",
       "      <th></th>\n",
       "      <th>ptid</th>\n",
       "      <th>eye</th>\n",
       "      <th>age</th>\n",
       "      <th>instance</th>\n",
       "      <th>diagnosis</th>\n",
       "      <th>logmar</th>\n",
       "      <th>fold</th>\n",
       "    </tr>\n",
       "    <tr>\n",
       "      <th>index</th>\n",
       "      <th></th>\n",
       "      <th></th>\n",
       "      <th></th>\n",
       "      <th></th>\n",
       "      <th></th>\n",
       "      <th></th>\n",
       "      <th></th>\n",
       "    </tr>\n",
       "  </thead>\n",
       "  <tbody>\n",
       "    <tr>\n",
       "      <th>6761</th>\n",
       "      <td>45e2bd8d686d26527ed1e73a52868d3ed6728acf5bde75...</td>\n",
       "      <td>L</td>\n",
       "      <td>40.5886</td>\n",
       "      <td>dc6315bae4fb6d37495a7f3cc52deffaf1d8e33a994023...</td>\n",
       "      <td>[central serous chorioretinopathy, AMD]</td>\n",
       "      <td>0.0000</td>\n",
       "      <td>semisup_AMD_preinj_sample</td>\n",
       "    </tr>\n",
       "    <tr>\n",
       "      <th>5375</th>\n",
       "      <td>3c71ee50a79de2c64a8fd44c743677e9cc1284f3bac0aa...</td>\n",
       "      <td>R</td>\n",
       "      <td>73.7988</td>\n",
       "      <td>782748462fcf5a379352cb2427a101fd1a90f13557eff8...</td>\n",
       "      <td>[AMD, Glaucoma]</td>\n",
       "      <td>0.0969</td>\n",
       "      <td>semisup_AMD_preinj_sample</td>\n",
       "    </tr>\n",
       "    <tr>\n",
       "      <th>3743</th>\n",
       "      <td>bf09141d4b8c163b21b1139d0dc36cfbc77feed63f7513...</td>\n",
       "      <td>L</td>\n",
       "      <td>80.0602</td>\n",
       "      <td>919c4f9b6f33e119a122caafc5d2433ffa3ab6ae34e106...</td>\n",
       "      <td>[AMD]</td>\n",
       "      <td>0.0000</td>\n",
       "      <td>semisup_AMD_preinj_sample</td>\n",
       "    </tr>\n",
       "    <tr>\n",
       "      <th>8335</th>\n",
       "      <td>c28b17d6bd0bd673b8b2490c5ec4b8832a755c8fe1b5e9...</td>\n",
       "      <td>L</td>\n",
       "      <td>66.0205</td>\n",
       "      <td>a17d830c611f7ef5b39084ee600ad5564a30741ec578fa...</td>\n",
       "      <td>[AMD, Macular pucker]</td>\n",
       "      <td>0.0000</td>\n",
       "      <td>semisup_AMD_preinj_sample</td>\n",
       "    </tr>\n",
       "    <tr>\n",
       "      <th>8920</th>\n",
       "      <td>4f32278384a04b0162ff0fcf9949faf484574de61f0bf9...</td>\n",
       "      <td>R</td>\n",
       "      <td>72.2683</td>\n",
       "      <td>f1a3b1b6575e73c98e6d00dc59bb8a81386a671f599662...</td>\n",
       "      <td>[Posterior Vitreous Detachment, AMD]</td>\n",
       "      <td>0.0000</td>\n",
       "      <td>semisup_AMD_preinj_sample</td>\n",
       "    </tr>\n",
       "    <tr>\n",
       "      <th>...</th>\n",
       "      <td>...</td>\n",
       "      <td>...</td>\n",
       "      <td>...</td>\n",
       "      <td>...</td>\n",
       "      <td>...</td>\n",
       "      <td>...</td>\n",
       "      <td>...</td>\n",
       "    </tr>\n",
       "    <tr>\n",
       "      <th>5326</th>\n",
       "      <td>2af685c6d0931a52a94665b2255500fb9dd3511ab242c5...</td>\n",
       "      <td>L</td>\n",
       "      <td>61.7084</td>\n",
       "      <td>800fa572fc0adeced13acd93e2f4f9c76e95c5cba751ec...</td>\n",
       "      <td>[Glaucoma, Diabetic Eye Disease, AMD]</td>\n",
       "      <td>0.1761</td>\n",
       "      <td>semisup_AMD_preinj_sample</td>\n",
       "    </tr>\n",
       "    <tr>\n",
       "      <th>7160</th>\n",
       "      <td>540343649153a0ff677dc25a4c0f20dea153ed9ead1e45...</td>\n",
       "      <td>R</td>\n",
       "      <td>81.7440</td>\n",
       "      <td>b8c655b2cd9a70246c9b5189352e7c7b2cc0e843ccb8a1...</td>\n",
       "      <td>[AMD]</td>\n",
       "      <td>0.0000</td>\n",
       "      <td>semisup_AMD_preinj_sample</td>\n",
       "    </tr>\n",
       "    <tr>\n",
       "      <th>7128</th>\n",
       "      <td>52cac7a6c82e1eb6bc395acdd189245081429e77ad6cd5...</td>\n",
       "      <td>L</td>\n",
       "      <td>62.9788</td>\n",
       "      <td>a95cf4b7ca28b70a9262448f5f584a3008abed58d11170...</td>\n",
       "      <td>[Macular pucker, AMD]</td>\n",
       "      <td>0.0969</td>\n",
       "      <td>semisup_AMD_preinj_sample</td>\n",
       "    </tr>\n",
       "    <tr>\n",
       "      <th>3290</th>\n",
       "      <td>3c6094f46b23ff98a01f60e55d8792cac173b7d52e2222...</td>\n",
       "      <td>R</td>\n",
       "      <td>71.8741</td>\n",
       "      <td>efa39b3f0c86a742cec6251e7df9313c5e9eca50388284...</td>\n",
       "      <td>[AMD]</td>\n",
       "      <td>0.0969</td>\n",
       "      <td>semisup_AMD_preinj_sample</td>\n",
       "    </tr>\n",
       "    <tr>\n",
       "      <th>5599</th>\n",
       "      <td>5992cf5714f5cd57aa3b30ec3ba6443b77ce0c4dc0abf1...</td>\n",
       "      <td>L</td>\n",
       "      <td>73.9685</td>\n",
       "      <td>d2cb67c8762b1b3358333606468e1b0b85240255774561...</td>\n",
       "      <td>[Glaucoma, AMD]</td>\n",
       "      <td>0.1761</td>\n",
       "      <td>semisup_AMD_preinj_sample</td>\n",
       "    </tr>\n",
       "  </tbody>\n",
       "</table>\n",
       "<p>1151 rows × 7 columns</p>\n",
       "</div>"
      ],
      "text/plain": [
       "                                                    ptid eye      age  \\\n",
       "index                                                                   \n",
       "6761   45e2bd8d686d26527ed1e73a52868d3ed6728acf5bde75...   L  40.5886   \n",
       "5375   3c71ee50a79de2c64a8fd44c743677e9cc1284f3bac0aa...   R  73.7988   \n",
       "3743   bf09141d4b8c163b21b1139d0dc36cfbc77feed63f7513...   L  80.0602   \n",
       "8335   c28b17d6bd0bd673b8b2490c5ec4b8832a755c8fe1b5e9...   L  66.0205   \n",
       "8920   4f32278384a04b0162ff0fcf9949faf484574de61f0bf9...   R  72.2683   \n",
       "...                                                  ...  ..      ...   \n",
       "5326   2af685c6d0931a52a94665b2255500fb9dd3511ab242c5...   L  61.7084   \n",
       "7160   540343649153a0ff677dc25a4c0f20dea153ed9ead1e45...   R  81.7440   \n",
       "7128   52cac7a6c82e1eb6bc395acdd189245081429e77ad6cd5...   L  62.9788   \n",
       "3290   3c6094f46b23ff98a01f60e55d8792cac173b7d52e2222...   R  71.8741   \n",
       "5599   5992cf5714f5cd57aa3b30ec3ba6443b77ce0c4dc0abf1...   L  73.9685   \n",
       "\n",
       "                                                instance  \\\n",
       "index                                                      \n",
       "6761   dc6315bae4fb6d37495a7f3cc52deffaf1d8e33a994023...   \n",
       "5375   782748462fcf5a379352cb2427a101fd1a90f13557eff8...   \n",
       "3743   919c4f9b6f33e119a122caafc5d2433ffa3ab6ae34e106...   \n",
       "8335   a17d830c611f7ef5b39084ee600ad5564a30741ec578fa...   \n",
       "8920   f1a3b1b6575e73c98e6d00dc59bb8a81386a671f599662...   \n",
       "...                                                  ...   \n",
       "5326   800fa572fc0adeced13acd93e2f4f9c76e95c5cba751ec...   \n",
       "7160   b8c655b2cd9a70246c9b5189352e7c7b2cc0e843ccb8a1...   \n",
       "7128   a95cf4b7ca28b70a9262448f5f584a3008abed58d11170...   \n",
       "3290   efa39b3f0c86a742cec6251e7df9313c5e9eca50388284...   \n",
       "5599   d2cb67c8762b1b3358333606468e1b0b85240255774561...   \n",
       "\n",
       "                                     diagnosis  logmar  \\\n",
       "index                                                    \n",
       "6761   [central serous chorioretinopathy, AMD]  0.0000   \n",
       "5375                           [AMD, Glaucoma]  0.0969   \n",
       "3743                                     [AMD]  0.0000   \n",
       "8335                     [AMD, Macular pucker]  0.0000   \n",
       "8920      [Posterior Vitreous Detachment, AMD]  0.0000   \n",
       "...                                        ...     ...   \n",
       "5326     [Glaucoma, Diabetic Eye Disease, AMD]  0.1761   \n",
       "7160                                     [AMD]  0.0000   \n",
       "7128                     [Macular pucker, AMD]  0.0969   \n",
       "3290                                     [AMD]  0.0969   \n",
       "5599                           [Glaucoma, AMD]  0.1761   \n",
       "\n",
       "                            fold  \n",
       "index                             \n",
       "6761   semisup_AMD_preinj_sample  \n",
       "5375   semisup_AMD_preinj_sample  \n",
       "3743   semisup_AMD_preinj_sample  \n",
       "8335   semisup_AMD_preinj_sample  \n",
       "8920   semisup_AMD_preinj_sample  \n",
       "...                          ...  \n",
       "5326   semisup_AMD_preinj_sample  \n",
       "7160   semisup_AMD_preinj_sample  \n",
       "7128   semisup_AMD_preinj_sample  \n",
       "3290   semisup_AMD_preinj_sample  \n",
       "5599   semisup_AMD_preinj_sample  \n",
       "\n",
       "[1151 rows x 7 columns]"
      ]
     },
     "execution_count": 8,
     "metadata": {},
     "output_type": "execute_result"
    }
   ],
   "source": [
    "df = pd.read_parquet('/data/amd-data/cera-rpd/detectron2-rpd/datasets/dfUWAMD_dfsemisup_preinj_sample.parquet')\n",
    "df"
   ]
  },
  {
   "cell_type": "code",
   "execution_count": 12,
   "metadata": {},
   "outputs": [
    {
     "name": "stderr",
     "output_type": "stream",
     "text": [
      "100%|██████████| 1151/1151 [00:07<00:00, 150.94it/s]\n"
     ]
    }
   ],
   "source": [
    "\n",
    "#dfmap = pd.DataFame(columns=['instance','referenceID'])\n",
    "rootdir = '/data/oct-heyex-data/macoct/'\n",
    "for ptid in tqdm(df.ptid.unique()): #for each ptid\n",
    "    path = os.path.join(rootdir,ptid,'macOCT','*','oct.json')\n",
    "    paths = glob.glob(path)\n",
    "    for p in paths: #for each instance/eye volume\n",
    "        d = json.load(open(p))\n",
    "        dataset.append(d)\n"
   ]
  },
  {
   "cell_type": "code",
   "execution_count": 13,
   "metadata": {},
   "outputs": [
    {
     "data": {
      "text/plain": [
       "Index(['ptid', 'study', 'series', 'age', 'laterality', 'instance', 'thickness',\n",
       "       'res1', 'res2', 'type', 'octh', 'referenceID', 'volshape'],\n",
       "      dtype='object')"
      ]
     },
     "execution_count": 13,
     "metadata": {},
     "output_type": "execute_result"
    }
   ],
   "source": [
    "dfmap = pd.DataFrame(dataset)\n",
    "dfmap.columns"
   ]
  },
  {
   "cell_type": "code",
   "execution_count": 14,
   "metadata": {},
   "outputs": [
    {
     "data": {
      "text/plain": [
       "Index(['ptid', 'eye', 'age', 'instance', 'diagnosis', 'logmar', 'fold',\n",
       "       'referenceID', 'volshape', 'octh', 'res2', 'thickness', 'slicei',\n",
       "       'img_path', 'msk_path'],\n",
       "      dtype='object')"
      ]
     },
     "execution_count": 14,
     "metadata": {},
     "output_type": "execute_result"
    }
   ],
   "source": [
    "dfa = df.merge(dfmap[['instance','referenceID','volshape','octh','res2','thickness']],on=['instance'])\n",
    "dfa = dfa.assign(slicei =dfa.apply(lambda x: list(range(x.volshape[0])),axis=1)).explode(['octh','slicei'])\n",
    "dfa = dfa.assign(img_path=dfa.apply(lambda x: os.path.join(rootdir,x.ptid,'macOCT',x.referenceID,'oct-{:03d}.png'.format(x.slicei)),axis=1))\n",
    "#dfa = dfa.assign(fold = 'dfeval_train_v2')\n",
    "dfa = dfa.assign(msk_path = '')\n",
    "dfa = dfa.reset_index(drop=True)\n",
    "dfa.columns\n"
   ]
  },
  {
   "cell_type": "code",
   "execution_count": 16,
   "metadata": {},
   "outputs": [],
   "source": [
    "pd.set_option('display.max_colwidth',1000)\n",
    "dfa.loc[:,'ir_path'] = dfa['img_path'].str.replace('oct-....png','ir.png',regex=True)\n"
   ]
  },
  {
   "cell_type": "code",
   "execution_count": 19,
   "metadata": {},
   "outputs": [],
   "source": [
    "dfa.to_parquet('/data/amd-data/cera-rpd/detectron2-rpd/datasets/dfUWAMD_dfsemisup_preinj_sample_toserve.parquet')\n"
   ]
  },
  {
   "cell_type": "code",
   "execution_count": 48,
   "metadata": {},
   "outputs": [
    {
     "data": {
      "text/plain": [
       "ptid        1428\n",
       "eye            2\n",
       "instance    1428\n",
       "slicei        61\n",
       "volshape       1\n",
       "dtype: int64"
      ]
     },
     "execution_count": 48,
     "metadata": {},
     "output_type": "execute_result"
    }
   ],
   "source": [
    "dfa[['ptid', 'eye', 'instance', 'slicei','volshape']].astype('str').nunique()"
   ]
  },
  {
   "cell_type": "markdown",
   "metadata": {},
   "source": [
    "## Assigning folds (for large datasets)"
   ]
  },
  {
   "cell_type": "code",
   "execution_count": 41,
   "metadata": {},
   "outputs": [],
   "source": [
    "from sklearn.model_selection import GroupKFold\n",
    "splitter = GroupKFold(n_splits=10)\n",
    "splits = splitter.split(dfa,None,groups=dfa.ptid)"
   ]
  },
  {
   "cell_type": "code",
   "execution_count": 42,
   "metadata": {},
   "outputs": [
    {
     "name": "stdout",
     "output_type": "stream",
     "text": [
      "set()\n"
     ]
    }
   ],
   "source": [
    "#Check intersection\n",
    "setlist = []\n",
    "for i, (_, idx) in enumerate(splits):\n",
    "    setlist.append(set(dfa.loc[idx]['ptid']))\n",
    "    dfa.loc[idx,'fold'] = 'fold{}'.format(i+1)\n",
    "print(set.intersection(*setlist))\n"
   ]
  },
  {
   "cell_type": "code",
   "execution_count": 52,
   "metadata": {},
   "outputs": [
    {
     "data": {
      "text/html": [
       "<div>\n",
       "<style scoped>\n",
       "    .dataframe tbody tr th:only-of-type {\n",
       "        vertical-align: middle;\n",
       "    }\n",
       "\n",
       "    .dataframe tbody tr th {\n",
       "        vertical-align: top;\n",
       "    }\n",
       "\n",
       "    .dataframe thead th {\n",
       "        text-align: right;\n",
       "    }\n",
       "</style>\n",
       "<table border=\"1\" class=\"dataframe\">\n",
       "  <thead>\n",
       "    <tr style=\"text-align: right;\">\n",
       "      <th></th>\n",
       "      <th></th>\n",
       "      <th>age</th>\n",
       "    </tr>\n",
       "    <tr>\n",
       "      <th>ptid</th>\n",
       "      <th>eye</th>\n",
       "      <th></th>\n",
       "    </tr>\n",
       "  </thead>\n",
       "  <tbody>\n",
       "    <tr>\n",
       "      <th rowspan=\"2\" valign=\"top\">055bdc3ae92212dd5daa3a66358d58283ce6e60dc8c8d9f8efe83cd3005fb449</th>\n",
       "      <th>L</th>\n",
       "      <td>56</td>\n",
       "    </tr>\n",
       "    <tr>\n",
       "      <th>R</th>\n",
       "      <td>53</td>\n",
       "    </tr>\n",
       "    <tr>\n",
       "      <th rowspan=\"2\" valign=\"top\">251a1bd5290c932d6cc30975aa8806f8318285286c450c6188b8a6892665bb80</th>\n",
       "      <th>L</th>\n",
       "      <td>31</td>\n",
       "    </tr>\n",
       "    <tr>\n",
       "      <th>R</th>\n",
       "      <td>32</td>\n",
       "    </tr>\n",
       "    <tr>\n",
       "      <th rowspan=\"2\" valign=\"top\">312b99fe94469e7deb6e5d495723b0b2710560ed4ac0fae917c6f3a6dd0be184</th>\n",
       "      <th>L</th>\n",
       "      <td>20</td>\n",
       "    </tr>\n",
       "    <tr>\n",
       "      <th>R</th>\n",
       "      <td>21</td>\n",
       "    </tr>\n",
       "    <tr>\n",
       "      <th rowspan=\"2\" valign=\"top\">451a0840d96f0270eff6f77ea28de9d08f7c38ce5102a73e6675d58e4afae79b</th>\n",
       "      <th>L</th>\n",
       "      <td>26</td>\n",
       "    </tr>\n",
       "    <tr>\n",
       "      <th>R</th>\n",
       "      <td>28</td>\n",
       "    </tr>\n",
       "    <tr>\n",
       "      <th rowspan=\"2\" valign=\"top\">6c9b0ab7f453360f55632b4ce94e21e13a683e35388572e0f042c7f2c5f6bad1</th>\n",
       "      <th>L</th>\n",
       "      <td>25</td>\n",
       "    </tr>\n",
       "    <tr>\n",
       "      <th>R</th>\n",
       "      <td>24</td>\n",
       "    </tr>\n",
       "    <tr>\n",
       "      <th>785e3d83e3884be99059c27eb9281741f8cda04620311b267b0a4694ef389046</th>\n",
       "      <th>L</th>\n",
       "      <td>30</td>\n",
       "    </tr>\n",
       "    <tr>\n",
       "      <th rowspan=\"2\" valign=\"top\">8372fdd11a12708c81d60a17da5a4dc8515f89007a526a33de74b2b0bb30006a</th>\n",
       "      <th>L</th>\n",
       "      <td>34</td>\n",
       "    </tr>\n",
       "    <tr>\n",
       "      <th>R</th>\n",
       "      <td>33</td>\n",
       "    </tr>\n",
       "    <tr>\n",
       "      <th rowspan=\"2\" valign=\"top\">a11344503550b58ab75a62be10976e44699a71a89c60aacc908f5b9600ed9064</th>\n",
       "      <th>L</th>\n",
       "      <td>16</td>\n",
       "    </tr>\n",
       "    <tr>\n",
       "      <th>R</th>\n",
       "      <td>15</td>\n",
       "    </tr>\n",
       "    <tr>\n",
       "      <th>f79399dcc307dff6e327a2fc6cbbf03183154413643fb8a6285c30df2441abf3</th>\n",
       "      <th>R</th>\n",
       "      <td>23</td>\n",
       "    </tr>\n",
       "  </tbody>\n",
       "</table>\n",
       "</div>"
      ],
      "text/plain": [
       "                                                        age\n",
       "ptid                                               eye     \n",
       "055bdc3ae92212dd5daa3a66358d58283ce6e60dc8c8d9f... L     56\n",
       "                                                   R     53\n",
       "251a1bd5290c932d6cc30975aa8806f8318285286c450c6... L     31\n",
       "                                                   R     32\n",
       "312b99fe94469e7deb6e5d495723b0b2710560ed4ac0fae... L     20\n",
       "                                                   R     21\n",
       "451a0840d96f0270eff6f77ea28de9d08f7c38ce5102a73... L     26\n",
       "                                                   R     28\n",
       "6c9b0ab7f453360f55632b4ce94e21e13a683e35388572e... L     25\n",
       "                                                   R     24\n",
       "785e3d83e3884be99059c27eb9281741f8cda04620311b2... L     30\n",
       "8372fdd11a12708c81d60a17da5a4dc8515f89007a526a3... L     34\n",
       "                                                   R     33\n",
       "a11344503550b58ab75a62be10976e44699a71a89c60aac... L     16\n",
       "                                                   R     15\n",
       "f79399dcc307dff6e327a2fc6cbbf03183154413643fb8a... R     23"
      ]
     },
     "execution_count": 52,
     "metadata": {},
     "output_type": "execute_result"
    }
   ],
   "source": [
    "dfa[dfa.fold=='fold1'][['ptid','eye','age']].drop_duplicates().groupby(['ptid','eye']).count()"
   ]
  },
  {
   "cell_type": "code",
   "execution_count": 44,
   "metadata": {},
   "outputs": [],
   "source": [
    "dfa.to_parquet('dfsemisup_long_refined.parquet')"
   ]
  },
  {
   "cell_type": "code",
   "execution_count": 46,
   "metadata": {},
   "outputs": [
    {
     "name": "stderr",
     "output_type": "stream",
     "text": [
      "29585it [02:35, 190.02it/s]\n"
     ]
    },
    {
     "name": "stdout",
     "output_type": "stream",
     "text": [
      "Found 29585 images\n",
      "Found 0 instances\n",
      "Found 0 too few vertices\n"
     ]
    }
   ],
   "source": [
    "from data import rpd_data\n",
    "import pickle\n",
    "\n",
    "data = rpd_data(dfa.rename(columns={'instance':'volID'}),grp='fold1',data_has_ann=False)\n",
    "pickle.dump(data, open(\"dfsemisup_long_fold1.pk\", \"wb\"))"
   ]
  },
  {
   "cell_type": "code",
   "execution_count": 49,
   "metadata": {},
   "outputs": [
    {
     "data": {
      "text/plain": [
       "603.7755102040817"
      ]
     },
     "execution_count": 49,
     "metadata": {},
     "output_type": "execute_result"
    }
   ],
   "source": [
    "dat = pickle.load(open('dfsemisup_long_fold1.pk','rb'))\n",
    "len(dat)"
   ]
  }
 ],
 "metadata": {
  "interpreter": {
   "hash": "b0122a9a100fde86447053a2d82169efd56332aef873a4abfb4540bf3c983ad4"
  },
  "kernelspec": {
   "display_name": "Python 3.7.10 64-bit ('detectron': conda)",
   "language": "python",
   "name": "python3"
  },
  "language_info": {
   "codemirror_mode": {
    "name": "ipython",
    "version": 3
   },
   "file_extension": ".py",
   "mimetype": "text/x-python",
   "name": "python",
   "nbconvert_exporter": "python",
   "pygments_lexer": "ipython3",
   "version": "3.7.12"
  },
  "orig_nbformat": 4
 },
 "nbformat": 4,
 "nbformat_minor": 2
}
