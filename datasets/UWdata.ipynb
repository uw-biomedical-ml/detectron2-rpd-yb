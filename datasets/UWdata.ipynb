{
 "cells": [
  {
   "cell_type": "code",
   "execution_count": 8,
   "metadata": {},
   "outputs": [],
   "source": [
    "import pandas as pd\n",
    "import json\n",
    "import os, glob\n",
    "from tqdm import tqdm\n",
    "dataset = []\n"
   ]
  },
  {
   "cell_type": "markdown",
   "metadata": {},
   "source": [
    "# Apply labels to self-supervised set for detectron2 #"
   ]
  },
  {
   "cell_type": "code",
   "execution_count": 1,
   "metadata": {},
   "outputs": [],
   "source": [
    "import pandas as pd\n",
    "df = pd.read_parquet('/data/yelena/oct-semisup/data/dfselfsup.parquet',engine='fastparquet')\n",
    "# dfspecial = df[df.age==90.0100].groupby(['ptid','eye'])['instance'].count().sort_values(ascending=False)\n",
    "# dfspecial[dfspecial>1]\n",
    "df = df[df.age<90.0100] #max age == lots of cross-talk between labels, exclude\n",
    "df = df.drop(columns=['slicei','fpath'])\n",
    "df = df.loc[df.astype(str).drop_duplicates().index]\n",
    "#merge on dx labels\n",
    "dflabels = pd.read_parquet('/data/yelena/oct-semisup/data/dflabels_v2_procedure.parquet',engine='fastparquet')\n",
    "dflabels = dflabels.fillna('NA')"
   ]
  },
  {
   "cell_type": "code",
   "execution_count": 2,
   "metadata": {},
   "outputs": [
    {
     "data": {
      "text/plain": [
       "ptid         1428\n",
       "eye             2\n",
       "age          4591\n",
       "instance     9339\n",
       "diagnosis     339\n",
       "dtype: int64"
      ]
     },
     "execution_count": 2,
     "metadata": {},
     "output_type": "execute_result"
    }
   ],
   "source": [
    "#eyes after injection to exclude\n",
    "inj_eye = dflabels[dflabels['PROC_CODE']== '67028'][['ptid','eye','age']].drop_duplicates()\n",
    "inj_eye = inj_eye.groupby(['ptid','eye']).min()\n",
    "\n",
    "dfexclude = dflabels.merge(inj_eye,on=['ptid','eye'],suffixes=['','_inj']).query('age>=age_inj').drop('age_inj',axis=1)[['ptid','eye','age']].drop_duplicates()\n",
    "dflabels = dflabels[['ptid','eye','age','diagnosis']].groupby(['ptid','eye','age']).aggregate(lambda dx: dx.unique().tolist())\n",
    "df = df.merge(dflabels,how='left', on=['ptid','eye','age']) #this assumes dx is a list\n",
    "#exclude eyes after they've received injection\n",
    "df = df.merge(dfexclude,how='left',on=['ptid','eye','age'],indicator=True).query('_merge==\"left_only\"').drop('_merge',axis=1)\n",
    "#select AMD dx\n",
    "df = df[df.diagnosis.apply(lambda x: 'AMD' in x)]\n",
    "df.astype(str).nunique()"
   ]
  },
  {
   "cell_type": "code",
   "execution_count": 3,
   "metadata": {},
   "outputs": [],
   "source": [
    "#sample 1 volume per ptid\n",
    "dfsample = df.sample(frac=1,random_state=4).drop_duplicates(subset=['ptid'],keep='first')"
   ]
  },
  {
   "cell_type": "code",
   "execution_count": 4,
   "metadata": {},
   "outputs": [],
   "source": [
    "dfsample.assign(fold='semisup_AMD_preinj_sample').to_parquet('/data/amd-data/cera-rpd/detectron2-rpd/datasets/dfUWAMD_dfsemisup_preinj_sample.parquet')"
   ]
  },
  {
   "cell_type": "code",
   "execution_count": null,
   "metadata": {},
   "outputs": [],
   "source": [
    "#find high frequency volumes for longitudnal study\n",
    "dfcnt = df.groupby(['ptid','eye'])['instance'].count()\n",
    "ptid= dfcnt[dfcnt>20].reset_index().ptid\n",
    "df = df[df.ptid.isin(ptid)]\n",
    "df.astype(str).nunique()\n",
    "#df.assign(fold='semisup_AMD_long_preinj').to_parquet('/data/amd-data/cera-rpd/detectron2-rpd/datasets/dfUWAMD_dfsemisup_long_preinj.parquet')"
   ]
  },
  {
   "cell_type": "markdown",
   "metadata": {},
   "source": [
    "# Read in dataframe of interest"
   ]
  },
  {
   "cell_type": "code",
   "execution_count": null,
   "metadata": {},
   "outputs": [],
   "source": [
    "df = pd.read_parquet('dfUWAMD_eval_train_v2_classify.parquet')\n",
    "df = df.drop(columns = ['slicei','img_path'])\n",
    "df = df.loc[df.astype(str).drop_duplicates().index]\n",
    "df.columns\n"
   ]
  },
  {
   "cell_type": "code",
   "execution_count": 2,
   "metadata": {},
   "outputs": [
    {
     "data": {
      "text/plain": [
       "Index(['ptid', 'eye', 'age', 'instance', 'diagnosis', 'logmar', 'fold'], dtype='object')"
      ]
     },
     "execution_count": 2,
     "metadata": {},
     "output_type": "execute_result"
    }
   ],
   "source": [
    "df = pd.read_parquet('dfUWAMD_dfsemisup_long.parquet')\n",
    "df.columns"
   ]
  },
  {
   "cell_type": "code",
   "execution_count": 6,
   "metadata": {},
   "outputs": [
    {
     "data": {
      "text/html": [
       "<div>\n",
       "<style scoped>\n",
       "    .dataframe tbody tr th:only-of-type {\n",
       "        vertical-align: middle;\n",
       "    }\n",
       "\n",
       "    .dataframe tbody tr th {\n",
       "        vertical-align: top;\n",
       "    }\n",
       "\n",
       "    .dataframe thead th {\n",
       "        text-align: right;\n",
       "    }\n",
       "</style>\n",
       "<table border=\"1\" class=\"dataframe\">\n",
       "  <thead>\n",
       "    <tr style=\"text-align: right;\">\n",
       "      <th></th>\n",
       "      <th>ptid</th>\n",
       "      <th>eye</th>\n",
       "      <th>age</th>\n",
       "      <th>instance</th>\n",
       "      <th>diagnosis</th>\n",
       "      <th>fold</th>\n",
       "    </tr>\n",
       "    <tr>\n",
       "      <th>index</th>\n",
       "      <th></th>\n",
       "      <th></th>\n",
       "      <th></th>\n",
       "      <th></th>\n",
       "      <th></th>\n",
       "      <th></th>\n",
       "    </tr>\n",
       "  </thead>\n",
       "  <tbody>\n",
       "    <tr>\n",
       "      <th>45075</th>\n",
       "      <td>4e5103540fcdb59e9d723a3e587b6691a2cd27bb23be7f...</td>\n",
       "      <td>R</td>\n",
       "      <td>85.7550</td>\n",
       "      <td>3029e183d1bd08975904bcdff44422fc23ea2bb3e302a7...</td>\n",
       "      <td>[AMD, Glaucoma]</td>\n",
       "      <td>semisup_AMD_preinj_sample</td>\n",
       "    </tr>\n",
       "    <tr>\n",
       "      <th>19849</th>\n",
       "      <td>f223309310c7f891f1d71e7da5dcc18d44cc38f6b7e15f...</td>\n",
       "      <td>L</td>\n",
       "      <td>51.0308</td>\n",
       "      <td>42aae076ebf09f379bb97d80c0cfc47c88bb5a22460d07...</td>\n",
       "      <td>[AMD]</td>\n",
       "      <td>semisup_AMD_preinj_sample</td>\n",
       "    </tr>\n",
       "    <tr>\n",
       "      <th>24372</th>\n",
       "      <td>d9befdef5161407446a8906144c380da3c09f89ff3f3bc...</td>\n",
       "      <td>L</td>\n",
       "      <td>71.9425</td>\n",
       "      <td>11cd87c20226279b0017822b508aafc91c7cde74b69ebd...</td>\n",
       "      <td>[AMD, Inherited Retinal Disease]</td>\n",
       "      <td>semisup_AMD_preinj_sample</td>\n",
       "    </tr>\n",
       "    <tr>\n",
       "      <th>8577</th>\n",
       "      <td>84e5d5cd17cfa2f1debfd87ade427ad13128674e9032b1...</td>\n",
       "      <td>R</td>\n",
       "      <td>58.2724</td>\n",
       "      <td>cfab62b2bef9f410add778e9e4582c7b63b5e10d7eaacd...</td>\n",
       "      <td>[AMD]</td>\n",
       "      <td>semisup_AMD_preinj_sample</td>\n",
       "    </tr>\n",
       "    <tr>\n",
       "      <th>9278</th>\n",
       "      <td>2648d9bed74ec1c27bcc631e66d3e2b3c66440495d9ced...</td>\n",
       "      <td>R</td>\n",
       "      <td>67.5838</td>\n",
       "      <td>fc74a04ad9d6f1d58263d741028d7b1ecea04d8cf9aa4b...</td>\n",
       "      <td>[Glaucoma, AMD]</td>\n",
       "      <td>semisup_AMD_preinj_sample</td>\n",
       "    </tr>\n",
       "    <tr>\n",
       "      <th>...</th>\n",
       "      <td>...</td>\n",
       "      <td>...</td>\n",
       "      <td>...</td>\n",
       "      <td>...</td>\n",
       "      <td>...</td>\n",
       "      <td>...</td>\n",
       "    </tr>\n",
       "    <tr>\n",
       "      <th>17886</th>\n",
       "      <td>7f5592146f2c1f9aae11f0e4507744142598bcd85e89a5...</td>\n",
       "      <td>R</td>\n",
       "      <td>70.8419</td>\n",
       "      <td>7b4a45967ad7c10060720745eb9ae5b861f3ad6053d7f7...</td>\n",
       "      <td>[AMD]</td>\n",
       "      <td>semisup_AMD_preinj_sample</td>\n",
       "    </tr>\n",
       "    <tr>\n",
       "      <th>71668</th>\n",
       "      <td>575b1304ad56af3853ef1cfded3857088c3a9c7aa822b6...</td>\n",
       "      <td>L</td>\n",
       "      <td>70.4367</td>\n",
       "      <td>eaa64038b36ae89664943a5643e76508fdae0c05228934...</td>\n",
       "      <td>[AMD]</td>\n",
       "      <td>semisup_AMD_preinj_sample</td>\n",
       "    </tr>\n",
       "    <tr>\n",
       "      <th>84068</th>\n",
       "      <td>49bd3b5dba2a400089bc5c9e8b9718de7da8ad377f13b7...</td>\n",
       "      <td>R</td>\n",
       "      <td>79.8987</td>\n",
       "      <td>ececd5f96692b9bc000f20ea432ae224077b2310d8f656...</td>\n",
       "      <td>[AMD]</td>\n",
       "      <td>semisup_AMD_preinj_sample</td>\n",
       "    </tr>\n",
       "    <tr>\n",
       "      <th>12166</th>\n",
       "      <td>f40e3c1f295bd6495547df15c8f0cc68f9daba78740fa5...</td>\n",
       "      <td>R</td>\n",
       "      <td>81.0130</td>\n",
       "      <td>fd206d373c55baa246b4a106302ebbd79d7f9563093c2a...</td>\n",
       "      <td>[Diabetic Eye Disease, AMD]</td>\n",
       "      <td>semisup_AMD_preinj_sample</td>\n",
       "    </tr>\n",
       "    <tr>\n",
       "      <th>46362</th>\n",
       "      <td>79e212254c21988e3a9bad03b8efec3659cb296f09d36a...</td>\n",
       "      <td>R</td>\n",
       "      <td>74.5681</td>\n",
       "      <td>3f7c3f64c49639c1beeab8c15c149dd8d991545041e98d...</td>\n",
       "      <td>[AMD, Potentially abnormal]</td>\n",
       "      <td>semisup_AMD_preinj_sample</td>\n",
       "    </tr>\n",
       "  </tbody>\n",
       "</table>\n",
       "<p>1428 rows × 6 columns</p>\n",
       "</div>"
      ],
      "text/plain": [
       "                                                    ptid eye      age  \\\n",
       "index                                                                   \n",
       "45075  4e5103540fcdb59e9d723a3e587b6691a2cd27bb23be7f...   R  85.7550   \n",
       "19849  f223309310c7f891f1d71e7da5dcc18d44cc38f6b7e15f...   L  51.0308   \n",
       "24372  d9befdef5161407446a8906144c380da3c09f89ff3f3bc...   L  71.9425   \n",
       "8577   84e5d5cd17cfa2f1debfd87ade427ad13128674e9032b1...   R  58.2724   \n",
       "9278   2648d9bed74ec1c27bcc631e66d3e2b3c66440495d9ced...   R  67.5838   \n",
       "...                                                  ...  ..      ...   \n",
       "17886  7f5592146f2c1f9aae11f0e4507744142598bcd85e89a5...   R  70.8419   \n",
       "71668  575b1304ad56af3853ef1cfded3857088c3a9c7aa822b6...   L  70.4367   \n",
       "84068  49bd3b5dba2a400089bc5c9e8b9718de7da8ad377f13b7...   R  79.8987   \n",
       "12166  f40e3c1f295bd6495547df15c8f0cc68f9daba78740fa5...   R  81.0130   \n",
       "46362  79e212254c21988e3a9bad03b8efec3659cb296f09d36a...   R  74.5681   \n",
       "\n",
       "                                                instance  \\\n",
       "index                                                      \n",
       "45075  3029e183d1bd08975904bcdff44422fc23ea2bb3e302a7...   \n",
       "19849  42aae076ebf09f379bb97d80c0cfc47c88bb5a22460d07...   \n",
       "24372  11cd87c20226279b0017822b508aafc91c7cde74b69ebd...   \n",
       "8577   cfab62b2bef9f410add778e9e4582c7b63b5e10d7eaacd...   \n",
       "9278   fc74a04ad9d6f1d58263d741028d7b1ecea04d8cf9aa4b...   \n",
       "...                                                  ...   \n",
       "17886  7b4a45967ad7c10060720745eb9ae5b861f3ad6053d7f7...   \n",
       "71668  eaa64038b36ae89664943a5643e76508fdae0c05228934...   \n",
       "84068  ececd5f96692b9bc000f20ea432ae224077b2310d8f656...   \n",
       "12166  fd206d373c55baa246b4a106302ebbd79d7f9563093c2a...   \n",
       "46362  3f7c3f64c49639c1beeab8c15c149dd8d991545041e98d...   \n",
       "\n",
       "                              diagnosis                       fold  \n",
       "index                                                               \n",
       "45075                   [AMD, Glaucoma]  semisup_AMD_preinj_sample  \n",
       "19849                             [AMD]  semisup_AMD_preinj_sample  \n",
       "24372  [AMD, Inherited Retinal Disease]  semisup_AMD_preinj_sample  \n",
       "8577                              [AMD]  semisup_AMD_preinj_sample  \n",
       "9278                    [Glaucoma, AMD]  semisup_AMD_preinj_sample  \n",
       "...                                 ...                        ...  \n",
       "17886                             [AMD]  semisup_AMD_preinj_sample  \n",
       "71668                             [AMD]  semisup_AMD_preinj_sample  \n",
       "84068                             [AMD]  semisup_AMD_preinj_sample  \n",
       "12166       [Diabetic Eye Disease, AMD]  semisup_AMD_preinj_sample  \n",
       "46362       [AMD, Potentially abnormal]  semisup_AMD_preinj_sample  \n",
       "\n",
       "[1428 rows x 6 columns]"
      ]
     },
     "execution_count": 6,
     "metadata": {},
     "output_type": "execute_result"
    }
   ],
   "source": [
    "df = pd.read_parquet('/data/amd-data/cera-rpd/detectron2-rpd/datasets/dfUWAMD_dfsemisup_preinj_sample.parquet')\n",
    "df"
   ]
  },
  {
   "cell_type": "code",
   "execution_count": 9,
   "metadata": {},
   "outputs": [
    {
     "name": "stderr",
     "output_type": "stream",
     "text": [
      "100%|██████████| 1428/1428 [00:21<00:00, 66.20it/s] \n"
     ]
    }
   ],
   "source": [
    "\n",
    "#dfmap = pd.DataFame(columns=['instance','referenceID'])\n",
    "rootdir = '/data/oct-heyex-data/macoct/'\n",
    "for ptid in tqdm(df.ptid.unique()): #for each ptid\n",
    "    path = os.path.join(rootdir,ptid,'macOCT','*','oct.json')\n",
    "    paths = glob.glob(path)\n",
    "    for p in paths: #for each instance/eye volume\n",
    "        d = json.load(open(p))\n",
    "        dataset.append(d)\n"
   ]
  },
  {
   "cell_type": "code",
   "execution_count": 10,
   "metadata": {},
   "outputs": [
    {
     "data": {
      "text/plain": [
       "Index(['ptid', 'study', 'series', 'age', 'laterality', 'instance', 'thickness',\n",
       "       'res1', 'res2', 'type', 'octh', 'referenceID', 'volshape'],\n",
       "      dtype='object')"
      ]
     },
     "execution_count": 10,
     "metadata": {},
     "output_type": "execute_result"
    }
   ],
   "source": [
    "dfmap = pd.DataFrame(dataset)\n",
    "dfmap.columns"
   ]
  },
  {
   "cell_type": "code",
   "execution_count": 45,
   "metadata": {},
   "outputs": [
    {
     "data": {
      "text/plain": [
       "Index(['ptid', 'eye', 'age', 'instance', 'diagnosis', 'fold', 'referenceID',\n",
       "       'volshape', 'octh', 'res2', 'thickness', 'slicei', 'img_path',\n",
       "       'msk_path'],\n",
       "      dtype='object')"
      ]
     },
     "execution_count": 45,
     "metadata": {},
     "output_type": "execute_result"
    }
   ],
   "source": [
    "dfa = df.merge(dfmap[['instance','referenceID','volshape','octh','res2','thickness']],on=['instance'])\n",
    "dfa = dfa.assign(slicei =dfa.apply(lambda x: list(range(x.volshape[0])),axis=1)).explode(['octh','slicei'])\n",
    "dfa = dfa.assign(img_path=dfa.apply(lambda x: os.path.join(rootdir,x.ptid,'macOCT',x.referenceID,'oct-{:03d}.png'.format(x.slicei)),axis=1))\n",
    "#dfa = dfa.assign(fold = 'dfeval_train_v2')\n",
    "dfa = dfa.assign(msk_path = '')\n",
    "dfa = dfa.reset_index(drop=True)\n",
    "dfa.columns\n"
   ]
  },
  {
   "cell_type": "code",
   "execution_count": 47,
   "metadata": {},
   "outputs": [
    {
     "data": {
      "text/plain": [
       "0        /data/oct-heyex-data/macoct/4e5103540fcdb59e9d723a3e587b6691a2cd27bb23be7f3c225c09ee8d71d7a6/macOCT/2288a15d8e963bae9f7fda3aac76669f2f9e0b96e1e1f4d9b616be0c7171992a/oct-000.png\n",
       "1        /data/oct-heyex-data/macoct/4e5103540fcdb59e9d723a3e587b6691a2cd27bb23be7f3c225c09ee8d71d7a6/macOCT/2288a15d8e963bae9f7fda3aac76669f2f9e0b96e1e1f4d9b616be0c7171992a/oct-001.png\n",
       "2        /data/oct-heyex-data/macoct/4e5103540fcdb59e9d723a3e587b6691a2cd27bb23be7f3c225c09ee8d71d7a6/macOCT/2288a15d8e963bae9f7fda3aac76669f2f9e0b96e1e1f4d9b616be0c7171992a/oct-002.png\n",
       "3        /data/oct-heyex-data/macoct/4e5103540fcdb59e9d723a3e587b6691a2cd27bb23be7f3c225c09ee8d71d7a6/macOCT/2288a15d8e963bae9f7fda3aac76669f2f9e0b96e1e1f4d9b616be0c7171992a/oct-003.png\n",
       "4        /data/oct-heyex-data/macoct/4e5103540fcdb59e9d723a3e587b6691a2cd27bb23be7f3c225c09ee8d71d7a6/macOCT/2288a15d8e963bae9f7fda3aac76669f2f9e0b96e1e1f4d9b616be0c7171992a/oct-004.png\n",
       "                                                                                               ...                                                                                       \n",
       "87103    /data/oct-heyex-data/macoct/79e212254c21988e3a9bad03b8efec3659cb296f09d36ab44e02512e231913c1/macOCT/e610868c7757928ff2a377d7edcd2287ee1edb274831318e0fdc53d869cc96bb/oct-056.png\n",
       "87104    /data/oct-heyex-data/macoct/79e212254c21988e3a9bad03b8efec3659cb296f09d36ab44e02512e231913c1/macOCT/e610868c7757928ff2a377d7edcd2287ee1edb274831318e0fdc53d869cc96bb/oct-057.png\n",
       "87105    /data/oct-heyex-data/macoct/79e212254c21988e3a9bad03b8efec3659cb296f09d36ab44e02512e231913c1/macOCT/e610868c7757928ff2a377d7edcd2287ee1edb274831318e0fdc53d869cc96bb/oct-058.png\n",
       "87106    /data/oct-heyex-data/macoct/79e212254c21988e3a9bad03b8efec3659cb296f09d36ab44e02512e231913c1/macOCT/e610868c7757928ff2a377d7edcd2287ee1edb274831318e0fdc53d869cc96bb/oct-059.png\n",
       "87107    /data/oct-heyex-data/macoct/79e212254c21988e3a9bad03b8efec3659cb296f09d36ab44e02512e231913c1/macOCT/e610868c7757928ff2a377d7edcd2287ee1edb274831318e0fdc53d869cc96bb/oct-060.png\n",
       "Name: img_path, Length: 87108, dtype: object"
      ]
     },
     "execution_count": 47,
     "metadata": {},
     "output_type": "execute_result"
    }
   ],
   "source": [
    "pd.set_option('display.max_colwidth',1000)\n",
    "dfa.loc[:,'ir_path'] = dfa['img_path'].str.replace('oct-....png','ir.png',regex=True)\n"
   ]
  },
  {
   "cell_type": "code",
   "execution_count": 49,
   "metadata": {},
   "outputs": [],
   "source": [
    "dfa.to_parquet('/data/amd-data/cera-rpd/detectron2-rpd/datasets/dfUWAMD_dfsemisup_preinj_sample_toserve.parquet')\n"
   ]
  },
  {
   "cell_type": "code",
   "execution_count": 53,
   "metadata": {},
   "outputs": [
    {
     "data": {
      "text/plain": [
       "{'img_path': instance\n",
       " d68f218cbbd47fa716858bd277288812bef9e49eab9913c2495443331c34b8ea    /data/oct-heyex-data/macoct/000e7e0a375f4f04b3d59247f45230b9ed90a2baf36922452a9a85ee6ef4e44f/macOCT/db820d32104cc507d146b2c04f9337f75f54de780e4d74fcd5903c208fb11f45/oct-000.png\n",
       " d68f218cbbd47fa716858bd277288812bef9e49eab9913c2495443331c34b8ea    /data/oct-heyex-data/macoct/000e7e0a375f4f04b3d59247f45230b9ed90a2baf36922452a9a85ee6ef4e44f/macOCT/db820d32104cc507d146b2c04f9337f75f54de780e4d74fcd5903c208fb11f45/oct-001.png\n",
       " d68f218cbbd47fa716858bd277288812bef9e49eab9913c2495443331c34b8ea    /data/oct-heyex-data/macoct/000e7e0a375f4f04b3d59247f45230b9ed90a2baf36922452a9a85ee6ef4e44f/macOCT/db820d32104cc507d146b2c04f9337f75f54de780e4d74fcd5903c208fb11f45/oct-002.png\n",
       " d68f218cbbd47fa716858bd277288812bef9e49eab9913c2495443331c34b8ea    /data/oct-heyex-data/macoct/000e7e0a375f4f04b3d59247f45230b9ed90a2baf36922452a9a85ee6ef4e44f/macOCT/db820d32104cc507d146b2c04f9337f75f54de780e4d74fcd5903c208fb11f45/oct-003.png\n",
       " d68f218cbbd47fa716858bd277288812bef9e49eab9913c2495443331c34b8ea    /data/oct-heyex-data/macoct/000e7e0a375f4f04b3d59247f45230b9ed90a2baf36922452a9a85ee6ef4e44f/macOCT/db820d32104cc507d146b2c04f9337f75f54de780e4d74fcd5903c208fb11f45/oct-004.png\n",
       "                                                                                                                                                           ...                                                                                       \n",
       " cf63415bbe2596c86443ca81b8266e23557dcad9457675e63ff0c8e7925658e5    /data/oct-heyex-data/macoct/fffb1daba2429a42badd6f6cca4275d3482497c881a68c9951eb59d582b7941a/macOCT/09e9462f777db6038a815bff72994243388408d0526eaf7152109b239bb0e5e2/oct-056.png\n",
       " cf63415bbe2596c86443ca81b8266e23557dcad9457675e63ff0c8e7925658e5    /data/oct-heyex-data/macoct/fffb1daba2429a42badd6f6cca4275d3482497c881a68c9951eb59d582b7941a/macOCT/09e9462f777db6038a815bff72994243388408d0526eaf7152109b239bb0e5e2/oct-057.png\n",
       " cf63415bbe2596c86443ca81b8266e23557dcad9457675e63ff0c8e7925658e5    /data/oct-heyex-data/macoct/fffb1daba2429a42badd6f6cca4275d3482497c881a68c9951eb59d582b7941a/macOCT/09e9462f777db6038a815bff72994243388408d0526eaf7152109b239bb0e5e2/oct-058.png\n",
       " cf63415bbe2596c86443ca81b8266e23557dcad9457675e63ff0c8e7925658e5    /data/oct-heyex-data/macoct/fffb1daba2429a42badd6f6cca4275d3482497c881a68c9951eb59d582b7941a/macOCT/09e9462f777db6038a815bff72994243388408d0526eaf7152109b239bb0e5e2/oct-059.png\n",
       " cf63415bbe2596c86443ca81b8266e23557dcad9457675e63ff0c8e7925658e5    /data/oct-heyex-data/macoct/fffb1daba2429a42badd6f6cca4275d3482497c881a68c9951eb59d582b7941a/macOCT/09e9462f777db6038a815bff72994243388408d0526eaf7152109b239bb0e5e2/oct-060.png\n",
       " Name: img_path, Length: 87108, dtype: object}"
      ]
     },
     "execution_count": 53,
     "metadata": {},
     "output_type": "execute_result"
    }
   ],
   "source": [
    "dfa[['instance','img_path']].set_index('instance').sort_values('img_path').to_dict('series')"
   ]
  },
  {
   "cell_type": "code",
   "execution_count": 48,
   "metadata": {},
   "outputs": [
    {
     "data": {
      "text/plain": [
       "ptid        1428\n",
       "eye            2\n",
       "instance    1428\n",
       "slicei        61\n",
       "volshape       1\n",
       "dtype: int64"
      ]
     },
     "execution_count": 48,
     "metadata": {},
     "output_type": "execute_result"
    }
   ],
   "source": [
    "dfa[['ptid', 'eye', 'instance', 'slicei','volshape']].astype('str').nunique()"
   ]
  },
  {
   "cell_type": "code",
   "execution_count": 41,
   "metadata": {},
   "outputs": [],
   "source": [
    "from sklearn.model_selection import GroupKFold\n",
    "splitter = GroupKFold(n_splits=10)\n",
    "splits = splitter.split(dfa,None,groups=dfa.ptid)"
   ]
  },
  {
   "cell_type": "code",
   "execution_count": 42,
   "metadata": {},
   "outputs": [
    {
     "name": "stdout",
     "output_type": "stream",
     "text": [
      "set()\n"
     ]
    }
   ],
   "source": [
    "#Check intersection\n",
    "setlist = []\n",
    "for i, (_, idx) in enumerate(splits):\n",
    "    setlist.append(set(dfa.loc[idx]['ptid']))\n",
    "    dfa.loc[idx,'fold'] = 'fold{}'.format(i+1)\n",
    "print(set.intersection(*setlist))\n"
   ]
  },
  {
   "cell_type": "code",
   "execution_count": 52,
   "metadata": {},
   "outputs": [
    {
     "data": {
      "text/html": [
       "<div>\n",
       "<style scoped>\n",
       "    .dataframe tbody tr th:only-of-type {\n",
       "        vertical-align: middle;\n",
       "    }\n",
       "\n",
       "    .dataframe tbody tr th {\n",
       "        vertical-align: top;\n",
       "    }\n",
       "\n",
       "    .dataframe thead th {\n",
       "        text-align: right;\n",
       "    }\n",
       "</style>\n",
       "<table border=\"1\" class=\"dataframe\">\n",
       "  <thead>\n",
       "    <tr style=\"text-align: right;\">\n",
       "      <th></th>\n",
       "      <th></th>\n",
       "      <th>age</th>\n",
       "    </tr>\n",
       "    <tr>\n",
       "      <th>ptid</th>\n",
       "      <th>eye</th>\n",
       "      <th></th>\n",
       "    </tr>\n",
       "  </thead>\n",
       "  <tbody>\n",
       "    <tr>\n",
       "      <th rowspan=\"2\" valign=\"top\">055bdc3ae92212dd5daa3a66358d58283ce6e60dc8c8d9f8efe83cd3005fb449</th>\n",
       "      <th>L</th>\n",
       "      <td>56</td>\n",
       "    </tr>\n",
       "    <tr>\n",
       "      <th>R</th>\n",
       "      <td>53</td>\n",
       "    </tr>\n",
       "    <tr>\n",
       "      <th rowspan=\"2\" valign=\"top\">251a1bd5290c932d6cc30975aa8806f8318285286c450c6188b8a6892665bb80</th>\n",
       "      <th>L</th>\n",
       "      <td>31</td>\n",
       "    </tr>\n",
       "    <tr>\n",
       "      <th>R</th>\n",
       "      <td>32</td>\n",
       "    </tr>\n",
       "    <tr>\n",
       "      <th rowspan=\"2\" valign=\"top\">312b99fe94469e7deb6e5d495723b0b2710560ed4ac0fae917c6f3a6dd0be184</th>\n",
       "      <th>L</th>\n",
       "      <td>20</td>\n",
       "    </tr>\n",
       "    <tr>\n",
       "      <th>R</th>\n",
       "      <td>21</td>\n",
       "    </tr>\n",
       "    <tr>\n",
       "      <th rowspan=\"2\" valign=\"top\">451a0840d96f0270eff6f77ea28de9d08f7c38ce5102a73e6675d58e4afae79b</th>\n",
       "      <th>L</th>\n",
       "      <td>26</td>\n",
       "    </tr>\n",
       "    <tr>\n",
       "      <th>R</th>\n",
       "      <td>28</td>\n",
       "    </tr>\n",
       "    <tr>\n",
       "      <th rowspan=\"2\" valign=\"top\">6c9b0ab7f453360f55632b4ce94e21e13a683e35388572e0f042c7f2c5f6bad1</th>\n",
       "      <th>L</th>\n",
       "      <td>25</td>\n",
       "    </tr>\n",
       "    <tr>\n",
       "      <th>R</th>\n",
       "      <td>24</td>\n",
       "    </tr>\n",
       "    <tr>\n",
       "      <th>785e3d83e3884be99059c27eb9281741f8cda04620311b267b0a4694ef389046</th>\n",
       "      <th>L</th>\n",
       "      <td>30</td>\n",
       "    </tr>\n",
       "    <tr>\n",
       "      <th rowspan=\"2\" valign=\"top\">8372fdd11a12708c81d60a17da5a4dc8515f89007a526a33de74b2b0bb30006a</th>\n",
       "      <th>L</th>\n",
       "      <td>34</td>\n",
       "    </tr>\n",
       "    <tr>\n",
       "      <th>R</th>\n",
       "      <td>33</td>\n",
       "    </tr>\n",
       "    <tr>\n",
       "      <th rowspan=\"2\" valign=\"top\">a11344503550b58ab75a62be10976e44699a71a89c60aacc908f5b9600ed9064</th>\n",
       "      <th>L</th>\n",
       "      <td>16</td>\n",
       "    </tr>\n",
       "    <tr>\n",
       "      <th>R</th>\n",
       "      <td>15</td>\n",
       "    </tr>\n",
       "    <tr>\n",
       "      <th>f79399dcc307dff6e327a2fc6cbbf03183154413643fb8a6285c30df2441abf3</th>\n",
       "      <th>R</th>\n",
       "      <td>23</td>\n",
       "    </tr>\n",
       "  </tbody>\n",
       "</table>\n",
       "</div>"
      ],
      "text/plain": [
       "                                                        age\n",
       "ptid                                               eye     \n",
       "055bdc3ae92212dd5daa3a66358d58283ce6e60dc8c8d9f... L     56\n",
       "                                                   R     53\n",
       "251a1bd5290c932d6cc30975aa8806f8318285286c450c6... L     31\n",
       "                                                   R     32\n",
       "312b99fe94469e7deb6e5d495723b0b2710560ed4ac0fae... L     20\n",
       "                                                   R     21\n",
       "451a0840d96f0270eff6f77ea28de9d08f7c38ce5102a73... L     26\n",
       "                                                   R     28\n",
       "6c9b0ab7f453360f55632b4ce94e21e13a683e35388572e... L     25\n",
       "                                                   R     24\n",
       "785e3d83e3884be99059c27eb9281741f8cda04620311b2... L     30\n",
       "8372fdd11a12708c81d60a17da5a4dc8515f89007a526a3... L     34\n",
       "                                                   R     33\n",
       "a11344503550b58ab75a62be10976e44699a71a89c60aac... L     16\n",
       "                                                   R     15\n",
       "f79399dcc307dff6e327a2fc6cbbf03183154413643fb8a... R     23"
      ]
     },
     "execution_count": 52,
     "metadata": {},
     "output_type": "execute_result"
    }
   ],
   "source": [
    "dfa[dfa.fold=='fold1'][['ptid','eye','age']].drop_duplicates().groupby(['ptid','eye']).count()"
   ]
  },
  {
   "cell_type": "code",
   "execution_count": 44,
   "metadata": {},
   "outputs": [],
   "source": [
    "dfa.to_parquet('dfsemisup_long_refined.parquet')"
   ]
  },
  {
   "cell_type": "code",
   "execution_count": 46,
   "metadata": {},
   "outputs": [
    {
     "name": "stderr",
     "output_type": "stream",
     "text": [
      "29585it [02:35, 190.02it/s]\n"
     ]
    },
    {
     "name": "stdout",
     "output_type": "stream",
     "text": [
      "Found 29585 images\n",
      "Found 0 instances\n",
      "Found 0 too few vertices\n"
     ]
    }
   ],
   "source": [
    "from data import rpd_data\n",
    "import pickle\n",
    "\n",
    "data = rpd_data(dfa.rename(columns={'instance':'volID'}),grp='fold1',data_has_ann=False)\n",
    "pickle.dump(data, open(\"dfsemisup_long_fold1.pk\", \"wb\"))"
   ]
  },
  {
   "cell_type": "code",
   "execution_count": 49,
   "metadata": {},
   "outputs": [
    {
     "data": {
      "text/plain": [
       "603.7755102040817"
      ]
     },
     "execution_count": 49,
     "metadata": {},
     "output_type": "execute_result"
    }
   ],
   "source": [
    "dat = pickle.load(open('dfsemisup_long_fold1.pk','rb'))\n",
    "len(dat)"
   ]
  }
 ],
 "metadata": {
  "interpreter": {
   "hash": "b0122a9a100fde86447053a2d82169efd56332aef873a4abfb4540bf3c983ad4"
  },
  "kernelspec": {
   "display_name": "Python 3.7.10 64-bit ('detectron': conda)",
   "language": "python",
   "name": "python3"
  },
  "language_info": {
   "codemirror_mode": {
    "name": "ipython",
    "version": 3
   },
   "file_extension": ".py",
   "mimetype": "text/x-python",
   "name": "python",
   "nbconvert_exporter": "python",
   "pygments_lexer": "ipython3",
   "version": "3.7.12"
  },
  "orig_nbformat": 4
 },
 "nbformat": 4,
 "nbformat_minor": 2
}
