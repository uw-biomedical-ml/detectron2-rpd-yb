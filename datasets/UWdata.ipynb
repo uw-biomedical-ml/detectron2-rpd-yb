{
 "cells": [
  {
   "cell_type": "code",
   "execution_count": 1,
   "metadata": {},
   "outputs": [],
   "source": [
    "import pandas as pd\n",
    "import json\n",
    "import os, glob\n",
    "from tqdm import tqdm\n",
    "dataset = []\n"
   ]
  },
  {
   "cell_type": "markdown",
   "metadata": {},
   "source": [
    "# Apply labels to self-supervised set for detectron2 #"
   ]
  },
  {
   "cell_type": "code",
   "execution_count": 2,
   "metadata": {},
   "outputs": [],
   "source": [
    "import pandas as pd\n",
    "df = pd.read_parquet('/data/yelena/oct-semisup/data/dfselfsup.parquet',engine='fastparquet')\n",
    "# dfspecial = df[df.age==90.0100].groupby(['ptid','eye'])['instance'].count().sort_values(ascending=False)\n",
    "# dfspecial[dfspecial>1]\n",
    "df = df[df.age<90.0100] #max age == lots of cross-talk between labels, exclude\n",
    "df = df.drop(columns=['slicei','fpath'])\n",
    "df = df.loc[df.astype(str).drop_duplicates().index]\n",
    "#merge on dx labels\n",
    "dflabels = pd.read_parquet('/data/yelena/oct-semisup/data/dflabels_v2_procedure.parquet',engine='fastparquet')\n",
    "dflabels = dflabels.fillna('NA')"
   ]
  },
  {
   "cell_type": "code",
   "execution_count": 3,
   "metadata": {},
   "outputs": [
    {
     "data": {
      "text/plain": [
       "ptid         1154\n",
       "eye             2\n",
       "age          3225\n",
       "instance     5977\n",
       "diagnosis      15\n",
       "dtype: int64"
      ]
     },
     "execution_count": 3,
     "metadata": {},
     "output_type": "execute_result"
    }
   ],
   "source": [
    "#eyes after injection to exclude\n",
    "inj_eye = dflabels[dflabels['PROC_CODE']== '67028'][['ptid','eye','age']].drop_duplicates()\n",
    "inj_eye = inj_eye.groupby(['ptid','eye']).min()\n",
    "\n",
    "dfexclude = dflabels.merge(inj_eye,on=['ptid','eye'],suffixes=['','_inj']).query('age>=age_inj').drop('age_inj',axis=1)[['ptid','eye','age']].drop_duplicates()\n",
    "dflabels = dflabels[['ptid','eye','age','diagnosis']].groupby(['ptid','eye','age']).aggregate(lambda dx: dx.unique().tolist())\n",
    "df = df.merge(dflabels,how='left', on=['ptid','eye','age']) #this assumes dx is a list\n",
    "#exclude eyes after they've received injection\n",
    "df = df.merge(dfexclude,how='left',on=['ptid','eye','age'],indicator=True).query('_merge==\"left_only\"').drop('_merge',axis=1)\n",
    "#select AMD dx\n",
    "df = df[df.diagnosis.apply(lambda x: 'AMD' in x)]\n",
    "#exclude all dx other than AMD, glaucoma, PVD, hypertensive retinopathy\n",
    "ind = df.diagnosis.apply(lambda x: len(set(x).intersection(set(['central serous chorioretinopathy',\n",
    "       'Macular pucker', \n",
    "       'Diabetic Eye Disease', \n",
    "       'Potentially abnormal', 'Uveitis', 'Inherited Retinal Disease',\n",
    "       'Retinal Vascular Occlusion', 'Macular Hole', 'Retinal edema',\n",
    "       'Retinal Detachment', 'Vitreomacular Adhesion',\n",
    "       'Retinal Vasculitis', 'Vitreous hemorrhage'])))>0)\n",
    "df = df[~ind]\n",
    "df.astype(str).nunique()"
   ]
  },
  {
   "cell_type": "code",
   "execution_count": 4,
   "metadata": {},
   "outputs": [
    {
     "data": {
      "text/plain": [
       "ptid          912\n",
       "eye             2\n",
       "age          2436\n",
       "instance     4002\n",
       "diagnosis      14\n",
       "logmar          5\n",
       "dtype: int64"
      ]
     },
     "execution_count": 4,
     "metadata": {},
     "output_type": "execute_result"
    }
   ],
   "source": [
    "#merge on logmar\n",
    "dfva = pd.read_csv('/data/tspaide/ybdino/data/oct_logmars.csv',index_col=0)\n",
    "df = df.merge(dfva[['instance','logmar']],how='inner',on='instance')\n",
    "#filter 20/40 or better\n",
    "df = df[df.logmar<=.3]\n",
    "df.astype(str).nunique()"
   ]
  },
  {
   "cell_type": "code",
   "execution_count": 5,
   "metadata": {},
   "outputs": [],
   "source": [
    "#sample 1 volume per ptid\n",
    "dfsample = df.sample(frac=1,random_state=4).drop_duplicates(subset=['ptid'],keep='first')"
   ]
  },
  {
   "cell_type": "code",
   "execution_count": 6,
   "metadata": {},
   "outputs": [],
   "source": [
    "dfsample.assign(fold='semisup_AMD_preinj_sample').to_parquet('/data/amd-data/cera-rpd/detectron2-rpd/datasets/dfUWAMD_dfsemisup_preinj_sample.parquet')"
   ]
  },
  {
   "cell_type": "code",
   "execution_count": null,
   "metadata": {},
   "outputs": [],
   "source": [
    "#find high frequency volumes for longitudnal study\n",
    "dfcnt = df.groupby(['ptid','eye'])['instance'].count()\n",
    "ptid= dfcnt[dfcnt>20].reset_index().ptid\n",
    "df = df[df.ptid.isin(ptid)]\n",
    "df.astype(str).nunique()\n",
    "#df.assign(fold='semisup_AMD_long_preinj').to_parquet('/data/amd-data/cera-rpd/detectron2-rpd/datasets/dfUWAMD_dfsemisup_long_preinj.parquet')"
   ]
  },
  {
   "cell_type": "markdown",
   "metadata": {},
   "source": [
    "# Read in dataframe of interest"
   ]
  },
  {
   "cell_type": "code",
   "execution_count": null,
   "metadata": {},
   "outputs": [],
   "source": [
    "df = pd.read_parquet('dfUWAMD_eval_train_v2_classify.parquet')\n",
    "df = df.drop(columns = ['slicei','img_path'])\n",
    "df = df.loc[df.astype(str).drop_duplicates().index]\n",
    "df.columns\n"
   ]
  },
  {
   "cell_type": "code",
   "execution_count": 2,
   "metadata": {},
   "outputs": [
    {
     "data": {
      "text/plain": [
       "Index(['ptid', 'eye', 'age', 'instance', 'diagnosis', 'logmar', 'fold'], dtype='object')"
      ]
     },
     "execution_count": 2,
     "metadata": {},
     "output_type": "execute_result"
    }
   ],
   "source": [
    "df = pd.read_parquet('dfUWAMD_dfsemisup_long.parquet')\n",
    "df.columns"
   ]
  },
  {
   "cell_type": "code",
   "execution_count": 7,
   "metadata": {},
   "outputs": [
    {
     "data": {
      "text/plain": [
       "(912, 7)"
      ]
     },
     "execution_count": 7,
     "metadata": {},
     "output_type": "execute_result"
    }
   ],
   "source": [
    "df = pd.read_parquet('/data/amd-data/cera-rpd/detectron2-rpd/datasets/dfUWAMD_dfsemisup_preinj_sample.parquet')\n",
    "df.shape"
   ]
  },
  {
   "cell_type": "code",
   "execution_count": 8,
   "metadata": {},
   "outputs": [
    {
     "data": {
      "text/plain": [
       "520"
      ]
     },
     "execution_count": 8,
     "metadata": {},
     "output_type": "execute_result"
    }
   ],
   "source": [
    "(df.diagnosis.apply(lambda x: len(x))==1).sum()"
   ]
  },
  {
   "cell_type": "code",
   "execution_count": 9,
   "metadata": {},
   "outputs": [
    {
     "data": {
      "text/plain": [
       "index\n",
       "2087                         [Glaucoma, AMD]\n",
       "1105                         [Glaucoma, AMD]\n",
       "21                           [AMD, Glaucoma]\n",
       "4992                                   [AMD]\n",
       "3606    [Posterior Vitreous Detachment, AMD]\n",
       "                        ...                 \n",
       "3392                                   [AMD]\n",
       "276                          [AMD, Glaucoma]\n",
       "837                                    [AMD]\n",
       "5183                         [AMD, Glaucoma]\n",
       "2203                                   [AMD]\n",
       "Name: diagnosis, Length: 912, dtype: object"
      ]
     },
     "execution_count": 9,
     "metadata": {},
     "output_type": "execute_result"
    }
   ],
   "source": [
    "df.diagnosis"
   ]
  },
  {
   "cell_type": "code",
   "execution_count": 13,
   "metadata": {},
   "outputs": [
    {
     "data": {
      "image/png": "[encoded data removed]",
      "text/plain": [
       "<Figure size 1000x500 with 1 Axes>"
      ]
     },
     "metadata": {
      "needs_background": "light"
     },
     "output_type": "display_data"
    }
   ],
   "source": [
    "import matplotlib.pyplot as plt\n",
    "plt.style.use('../ybpres.mplstyle')\n",
    "fig,ax = plt.subplots(1,1,dpi=100,figsize=[10,5])\n",
    "df.diagnosis.explode().value_counts().plot(kind='bar',rot=70,log=False)\n",
    "plt.xticks(ha=\"right\");"
   ]
  },
  {
   "cell_type": "code",
   "execution_count": 14,
   "metadata": {},
   "outputs": [
    {
     "name": "stderr",
     "output_type": "stream",
     "text": [
      "100%|██████████| 912/912 [00:06<00:00, 147.41it/s]\n"
     ]
    }
   ],
   "source": [
    "\n",
    "#dfmap = pd.DataFame(columns=['instance','referenceID'])\n",
    "rootdir = '/data/oct-heyex-data/macoct/'\n",
    "for ptid in tqdm(df.ptid.unique()): #for each ptid\n",
    "    path = os.path.join(rootdir,ptid,'macOCT','*','oct.json')\n",
    "    paths = glob.glob(path)\n",
    "    for p in paths: #for each instance/eye volume\n",
    "        d = json.load(open(p))\n",
    "        dataset.append(d)\n"
   ]
  },
  {
   "cell_type": "code",
   "execution_count": 15,
   "metadata": {},
   "outputs": [
    {
     "data": {
      "text/plain": [
       "Index(['ptid', 'study', 'series', 'age', 'laterality', 'instance', 'thickness',\n",
       "       'res1', 'res2', 'type', 'octh', 'referenceID', 'volshape'],\n",
       "      dtype='object')"
      ]
     },
     "execution_count": 15,
     "metadata": {},
     "output_type": "execute_result"
    }
   ],
   "source": [
    "dfmap = pd.DataFrame(dataset)\n",
    "dfmap.columns"
   ]
  },
  {
   "cell_type": "code",
   "execution_count": 16,
   "metadata": {},
   "outputs": [
    {
     "data": {
      "text/plain": [
       "Index(['ptid', 'eye', 'age', 'instance', 'diagnosis', 'logmar', 'fold',\n",
       "       'referenceID', 'volshape', 'octh', 'res2', 'thickness', 'slicei',\n",
       "       'img_path', 'msk_path'],\n",
       "      dtype='object')"
      ]
     },
     "execution_count": 16,
     "metadata": {},
     "output_type": "execute_result"
    }
   ],
   "source": [
    "dfa = df.merge(dfmap[['instance','referenceID','volshape','octh','res2','thickness']],on=['instance'])\n",
    "dfa = dfa.assign(slicei =dfa.apply(lambda x: list(range(x.volshape[0])),axis=1)).explode(['octh','slicei'])\n",
    "dfa = dfa.assign(img_path=dfa.apply(lambda x: os.path.join(rootdir,x.ptid,'macOCT',x.referenceID,'oct-{:03d}.png'.format(x.slicei)),axis=1))\n",
    "#dfa = dfa.assign(fold = 'dfeval_train_v2')\n",
    "dfa = dfa.assign(msk_path = '')\n",
    "dfa = dfa.reset_index(drop=True)\n",
    "dfa.columns\n"
   ]
  },
  {
   "cell_type": "code",
   "execution_count": 17,
   "metadata": {},
   "outputs": [],
   "source": [
    "pd.set_option('display.max_colwidth',1000)\n",
    "dfa.loc[:,'ir_path'] = dfa['img_path'].str.replace('oct-....png','ir.png',regex=True)\n"
   ]
  },
  {
   "cell_type": "code",
   "execution_count": 18,
   "metadata": {},
   "outputs": [],
   "source": [
    "dfa.to_parquet('/data/amd-data/cera-rpd/detectron2-rpd/datasets/dfUWAMD_dfsemisup_preinj_sample_toserve.parquet')\n"
   ]
  },
  {
   "cell_type": "code",
   "execution_count": 19,
   "metadata": {},
   "outputs": [
    {
     "data": {
      "text/plain": [
       "ptid        912\n",
       "eye           2\n",
       "instance    912\n",
       "slicei       61\n",
       "volshape      1\n",
       "dtype: int64"
      ]
     },
     "execution_count": 19,
     "metadata": {},
     "output_type": "execute_result"
    }
   ],
   "source": [
    "dfa[['ptid', 'eye', 'instance', 'slicei','volshape']].astype('str').nunique()"
   ]
  },
  {
   "cell_type": "markdown",
   "metadata": {},
   "source": [
    "## Assigning folds (for large datasets)"
   ]
  },
  {
   "cell_type": "code",
   "execution_count": 41,
   "metadata": {},
   "outputs": [],
   "source": [
    "from sklearn.model_selection import GroupKFold\n",
    "splitter = GroupKFold(n_splits=10)\n",
    "splits = splitter.split(dfa,None,groups=dfa.ptid)"
   ]
  },
  {
   "cell_type": "code",
   "execution_count": 42,
   "metadata": {},
   "outputs": [
    {
     "name": "stdout",
     "output_type": "stream",
     "text": [
      "set()\n"
     ]
    }
   ],
   "source": [
    "#Check intersection\n",
    "setlist = []\n",
    "for i, (_, idx) in enumerate(splits):\n",
    "    setlist.append(set(dfa.loc[idx]['ptid']))\n",
    "    dfa.loc[idx,'fold'] = 'fold{}'.format(i+1)\n",
    "print(set.intersection(*setlist))\n"
   ]
  },
  {
   "cell_type": "code",
   "execution_count": 52,
   "metadata": {},
   "outputs": [
    {
     "data": {
      "text/html": [
       "<div>\n",
       "<style scoped>\n",
       "    .dataframe tbody tr th:only-of-type {\n",
       "        vertical-align: middle;\n",
       "    }\n",
       "\n",
       "    .dataframe tbody tr th {\n",
       "        vertical-align: top;\n",
       "    }\n",
       "\n",
       "    .dataframe thead th {\n",
       "        text-align: right;\n",
       "    }\n",
       "</style>\n",
       "<table border=\"1\" class=\"dataframe\">\n",
       "  <thead>\n",
       "    <tr style=\"text-align: right;\">\n",
       "      <th></th>\n",
       "      <th></th>\n",
       "      <th>age</th>\n",
       "    </tr>\n",
       "    <tr>\n",
       "      <th>ptid</th>\n",
       "      <th>eye</th>\n",
       "      <th></th>\n",
       "    </tr>\n",
       "  </thead>\n",
       "  <tbody>\n",
       "    <tr>\n",
       "      <th rowspan=\"2\" valign=\"top\">055bdc3ae92212dd5daa3a66358d58283ce6e60dc8c8d9f8efe83cd3005fb449</th>\n",
       "      <th>L</th>\n",
       "      <td>56</td>\n",
       "    </tr>\n",
       "    <tr>\n",
       "      <th>R</th>\n",
       "      <td>53</td>\n",
       "    </tr>\n",
       "    <tr>\n",
       "      <th rowspan=\"2\" valign=\"top\">251a1bd5290c932d6cc30975aa8806f8318285286c450c6188b8a6892665bb80</th>\n",
       "      <th>L</th>\n",
       "      <td>31</td>\n",
       "    </tr>\n",
       "    <tr>\n",
       "      <th>R</th>\n",
       "      <td>32</td>\n",
       "    </tr>\n",
       "    <tr>\n",
       "      <th rowspan=\"2\" valign=\"top\">312b99fe94469e7deb6e5d495723b0b2710560ed4ac0fae917c6f3a6dd0be184</th>\n",
       "      <th>L</th>\n",
       "      <td>20</td>\n",
       "    </tr>\n",
       "    <tr>\n",
       "      <th>R</th>\n",
       "      <td>21</td>\n",
       "    </tr>\n",
       "    <tr>\n",
       "      <th rowspan=\"2\" valign=\"top\">451a0840d96f0270eff6f77ea28de9d08f7c38ce5102a73e6675d58e4afae79b</th>\n",
       "      <th>L</th>\n",
       "      <td>26</td>\n",
       "    </tr>\n",
       "    <tr>\n",
       "      <th>R</th>\n",
       "      <td>28</td>\n",
       "    </tr>\n",
       "    <tr>\n",
       "      <th rowspan=\"2\" valign=\"top\">6c9b0ab7f453360f55632b4ce94e21e13a683e35388572e0f042c7f2c5f6bad1</th>\n",
       "      <th>L</th>\n",
       "      <td>25</td>\n",
       "    </tr>\n",
       "    <tr>\n",
       "      <th>R</th>\n",
       "      <td>24</td>\n",
       "    </tr>\n",
       "    <tr>\n",
       "      <th>785e3d83e3884be99059c27eb9281741f8cda04620311b267b0a4694ef389046</th>\n",
       "      <th>L</th>\n",
       "      <td>30</td>\n",
       "    </tr>\n",
       "    <tr>\n",
       "      <th rowspan=\"2\" valign=\"top\">8372fdd11a12708c81d60a17da5a4dc8515f89007a526a33de74b2b0bb30006a</th>\n",
       "      <th>L</th>\n",
       "      <td>34</td>\n",
       "    </tr>\n",
       "    <tr>\n",
       "      <th>R</th>\n",
       "      <td>33</td>\n",
       "    </tr>\n",
       "    <tr>\n",
       "      <th rowspan=\"2\" valign=\"top\">a11344503550b58ab75a62be10976e44699a71a89c60aacc908f5b9600ed9064</th>\n",
       "      <th>L</th>\n",
       "      <td>16</td>\n",
       "    </tr>\n",
       "    <tr>\n",
       "      <th>R</th>\n",
       "      <td>15</td>\n",
       "    </tr>\n",
       "    <tr>\n",
       "      <th>f79399dcc307dff6e327a2fc6cbbf03183154413643fb8a6285c30df2441abf3</th>\n",
       "      <th>R</th>\n",
       "      <td>23</td>\n",
       "    </tr>\n",
       "  </tbody>\n",
       "</table>\n",
       "</div>"
      ],
      "text/plain": [
       "                                                        age\n",
       "ptid                                               eye     \n",
       "055bdc3ae92212dd5daa3a66358d58283ce6e60dc8c8d9f... L     56\n",
       "                                                   R     53\n",
       "251a1bd5290c932d6cc30975aa8806f8318285286c450c6... L     31\n",
       "                                                   R     32\n",
       "312b99fe94469e7deb6e5d495723b0b2710560ed4ac0fae... L     20\n",
       "                                                   R     21\n",
       "451a0840d96f0270eff6f77ea28de9d08f7c38ce5102a73... L     26\n",
       "                                                   R     28\n",
       "6c9b0ab7f453360f55632b4ce94e21e13a683e35388572e... L     25\n",
       "                                                   R     24\n",
       "785e3d83e3884be99059c27eb9281741f8cda04620311b2... L     30\n",
       "8372fdd11a12708c81d60a17da5a4dc8515f89007a526a3... L     34\n",
       "                                                   R     33\n",
       "a11344503550b58ab75a62be10976e44699a71a89c60aac... L     16\n",
       "                                                   R     15\n",
       "f79399dcc307dff6e327a2fc6cbbf03183154413643fb8a... R     23"
      ]
     },
     "execution_count": 52,
     "metadata": {},
     "output_type": "execute_result"
    }
   ],
   "source": [
    "dfa[dfa.fold=='fold1'][['ptid','eye','age']].drop_duplicates().groupby(['ptid','eye']).count()"
   ]
  },
  {
   "cell_type": "code",
   "execution_count": 44,
   "metadata": {},
   "outputs": [],
   "source": [
    "dfa.to_parquet('dfsemisup_long_refined.parquet')"
   ]
  },
  {
   "cell_type": "code",
   "execution_count": 46,
   "metadata": {},
   "outputs": [
    {
     "name": "stderr",
     "output_type": "stream",
     "text": [
      "29585it [02:35, 190.02it/s]\n"
     ]
    },
    {
     "name": "stdout",
     "output_type": "stream",
     "text": [
      "Found 29585 images\n",
      "Found 0 instances\n",
      "Found 0 too few vertices\n"
     ]
    }
   ],
   "source": [
    "from data import rpd_data\n",
    "import pickle\n",
    "\n",
    "data = rpd_data(dfa.rename(columns={'instance':'volID'}),grp='fold1',data_has_ann=False)\n",
    "pickle.dump(data, open(\"dfsemisup_long_fold1.pk\", \"wb\"))"
   ]
  },
  {
   "cell_type": "code",
   "execution_count": 49,
   "metadata": {},
   "outputs": [
    {
     "data": {
      "text/plain": [
       "603.7755102040817"
      ]
     },
     "execution_count": 49,
     "metadata": {},
     "output_type": "execute_result"
    }
   ],
   "source": [
    "dat = pickle.load(open('dfsemisup_long_fold1.pk','rb'))\n",
    "len(dat)"
   ]
  }
 ],
 "metadata": {
  "interpreter": {
   "hash": "b0122a9a100fde86447053a2d82169efd56332aef873a4abfb4540bf3c983ad4"
  },
  "kernelspec": {
   "display_name": "Python 3.7.10 64-bit ('detectron': conda)",
   "language": "python",
   "name": "python3"
  },
  "language_info": {
   "codemirror_mode": {
    "name": "ipython",
    "version": 3
   },
   "file_extension": ".py",
   "mimetype": "text/x-python",
   "name": "python",
   "nbconvert_exporter": "python",
   "pygments_lexer": "ipython3",
   "version": "3.7.12"
  },
  "orig_nbformat": 4
 },
 "nbformat": 4,
 "nbformat_minor": 2
}
