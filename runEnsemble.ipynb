{
 "cells": [
  {
   "cell_type": "code",
   "execution_count": 1,
   "metadata": {
    "tags": []
   },
   "outputs": [],
   "source": [
    "import shutil, os\n",
    "os.environ[\"CUDA_DEVICE_ORDER\"]=\"PCI_BUS_ID\"\n",
    "os.environ[\"CUDA_VISIBLE_DEVICES\"] = \"0\"\n",
    "import matplotlib.pyplot as plt\n",
    "import numpy as np\n",
    "import detectron2\n",
    "from detectron2.data import DatasetCatalog,MetadataCatalog\n",
    "from plain_train_net import grab_dataset\n",
    "import detectron2.utils.comm as comm\n",
    "from detectron2.engine import launch\n",
    "\n",
    "\n",
    "\n",
    "reprocess_results=False\n",
    "# dataset_name = \"reserves_fold1\"\n",
    "dataset_name = \"test\"\n",
    "dpi=120"
   ]
  },
  {
   "cell_type": "code",
   "execution_count": 2,
   "metadata": {
    "tags": []
   },
   "outputs": [
    {
     "name": "stdout",
     "output_type": "stream",
     "text": [
      "BATCH_SIZE_PER_IMAGE: 512\n",
      "IN_FEATURES:\n",
      "- p2\n",
      "- p3\n",
      "- p4\n",
      "- p5\n",
      "IOU_LABELS:\n",
      "- 0\n",
      "- 1\n",
      "IOU_THRESHOLDS:\n",
      "- 0.5\n",
      "NAME: StandardROIHeads\n",
      "NMS_THRESH_TEST: 0.01\n",
      "NUM_CLASSES: 1\n",
      "POSITIVE_FRACTION: 0.25\n",
      "PROPOSAL_APPEND_GT: true\n",
      "SCORE_THRESH_TEST: 0.001\n",
      "\n",
      "detectron2://ImageNetPretrained/FAIR/X-101-32x8d.pkl\n",
      "./output\n"
     ]
    }
   ],
   "source": [
    "#predict\n",
    "from detectron2.config import get_cfg\n",
    "cfg = get_cfg()\n",
    "cfg.merge_from_file('configs/working.yaml')\n",
    "#really low iou for nms in order to separate out lesions\n",
    "# cfg.merge_from_list([\"MODEL.WEIGHTS\", \"output_valid_fold1/model_final.pth\",\n",
    "#                      \"OUTPUT_DIR\", \"output_valid_\"+ dataset_name + \"/results\"])\n",
    "#print(cfg.dump())  # print formatted configs\n",
    "print(cfg.MODEL.ROI_HEADS.dump())\n",
    "print(cfg.MODEL.WEIGHTS)\n",
    "print(cfg.OUTPUT_DIR)\n"
   ]
  },
  {
   "cell_type": "code",
   "execution_count": 3,
   "metadata": {},
   "outputs": [],
   "source": [
    "for name in [dataset_name]:\n",
    "    try:\n",
    "        DatasetCatalog.register(name, grab_dataset(name))\n",
    "    except:\n",
    "        print('Already registered.')\n",
    "        #do nothing\n",
    "    MetadataCatalog.get(name).thing_classes = [\"rpd\"]"
   ]
  },
  {
   "cell_type": "markdown",
   "metadata": {},
   "source": [
    "# Prediction\n"
   ]
  },
  {
   "cell_type": "code",
   "execution_count": 4,
   "metadata": {},
   "outputs": [
    {
     "name": "stderr",
     "output_type": "stream",
     "text": [
      "Using previously cached COCO format annotations at 'output_ext_test/ext_test_coco_format.json'. You need to clear the cache file if your dataset has been modified.\n",
      "The checkpoint state_dict contains keys that are not used by the model:\n",
      "  \u001b[35mproposal_generator.anchor_generator.cell_anchors.{0, 1, 2, 3, 4}\u001b[0m\n",
      "The checkpoint state_dict contains keys that are not used by the model:\n",
      "  \u001b[35mproposal_generator.anchor_generator.cell_anchors.{0, 1, 2, 3, 4}\u001b[0m\n",
      "The checkpoint state_dict contains keys that are not used by the model:\n",
      "  \u001b[35mproposal_generator.anchor_generator.cell_anchors.{0, 1, 2, 3, 4}\u001b[0m\n",
      "The checkpoint state_dict contains keys that are not used by the model:\n",
      "  \u001b[35mproposal_generator.anchor_generator.cell_anchors.{0, 1, 2, 3, 4}\u001b[0m\n",
      "The checkpoint state_dict contains keys that are not used by the model:\n",
      "  \u001b[35mproposal_generator.anchor_generator.cell_anchors.{0, 1, 2, 3, 4}\u001b[0m\n"
     ]
    }
   ],
   "source": [
    "\n",
    "#%%script false --no-raise-error\n",
    "#os.environ[\"NCCL_DEBUG\"] = \"INFO\"\n",
    "#from torch.nn.parallel import DistributedDataParallel\n",
    "from detectron2.modeling import build_model\n",
    "from detectron2.data import build_detection_test_loader\n",
    "from detectron2.checkpoint import DetectionCheckpointer\n",
    "#from plain_train_net import EvaluateClass\n",
    "from detectron2.evaluation import inference_on_dataset, COCOEvaluator\n",
    "\n",
    "def predict_func(cfg,dataset_name):\n",
    "\n",
    "    model = build_model(cfg)  # returns a torch.nn.Module\n",
    "    # distributed = comm.get_world_size() > 1\n",
    "    # if distributed:\n",
    "    #     model = DistributedDataParallel(\n",
    "    #         model, device_ids=[comm.get_local_rank()], broadcast_buffers=False\n",
    "    #     )\n",
    "    myloader = build_detection_test_loader(cfg,dataset_name)    \n",
    "    myeval = COCOEvaluator(dataset_name,tasks={'bbox','segm'},output_dir =\"output_\"+ dataset_name) #produces _coco_format.json when initialized\n",
    "\n",
    "\n",
    "    for mdl in (\"fold1\", \"fold2\", \"fold3\", \"fold4\",\"fold5\"):\n",
    "        #build model\n",
    "        model_weights_path = \"output_valid_\"+ mdl +\"/model_final.pth\"\n",
    "        DetectionCheckpointer(model).load(model_weights_path);  # load a file, usually from cfg.MODEL.WEIGHTS\n",
    "        model.eval(); #set model in evaluation mode\n",
    "        myeval.reset()\n",
    "        output_dir = \"output_\"+ dataset_name + \"/\"+mdl\n",
    "        myeval._output_dir = output_dir\n",
    "        results_i = inference_on_dataset(model, myloader, myeval) #produces coco_instance_results.json when myeval.evaluate is called\n",
    "    \n",
    "    return\n",
    "\n",
    "predict_func(cfg,dataset_name)\n",
    "# launch(\n",
    "#     predict_func,\n",
    "#     6, # of gpus\n",
    "#     num_machines=1,\n",
    "#     machine_rank=0,\n",
    "#     dist_url=\"auto\",\n",
    "#     args=(cfg,dataset_name,), #args to predict_func\n",
    "# )"
   ]
  },
  {
   "cell_type": "markdown",
   "metadata": {},
   "source": [
    "# Ensembling "
   ]
  },
  {
   "cell_type": "code",
   "execution_count": 5,
   "metadata": {
    "tags": []
   },
   "outputs": [
    {
     "name": "stdout",
     "output_type": "stream",
     "text": [
      "loading annotations into memory...\n",
      "Done (t=0.03s)\n",
      "creating index...\n",
      "index created!\n",
      "Loading and preparing results...\n",
      "DONE (t=0.30s)\n",
      "creating index...\n",
      "index created!\n",
      "Successfully loaded output_ext_test/fold1/coco_instances_results.json into memory. 31392 instance detected.\n",
      "\n",
      "Loading and preparing results...\n",
      "DONE (t=0.24s)\n",
      "creating index...\n",
      "index created!\n",
      "Successfully loaded output_ext_test/fold2/coco_instances_results.json into memory. 29391 instance detected.\n",
      "\n",
      "Loading and preparing results...\n",
      "DONE (t=0.27s)\n",
      "creating index...\n",
      "index created!\n",
      "Successfully loaded output_ext_test/fold3/coco_instances_results.json into memory. 32281 instance detected.\n",
      "\n",
      "Loading and preparing results...\n",
      "DONE (t=0.27s)\n",
      "creating index...\n",
      "index created!\n",
      "Successfully loaded output_ext_test/fold4/coco_instances_results.json into memory. 26330 instance detected.\n",
      "\n",
      "Loading and preparing results...\n",
      "DONE (t=0.31s)\n",
      "creating index...\n",
      "index created!\n",
      "Successfully loaded output_ext_test/fold5/coco_instances_results.json into memory. 30312 instance detected.\n",
      "\n",
      "Working with 5 models, 1 categories, and 13813 images.\n",
      "Computing mean score non-max suppression ensembling for 13813 images.\n"
     ]
    },
    {
     "name": "stderr",
     "output_type": "stream",
     "text": [
      "100%|██████████| 13813/13813 [01:58<00:00, 116.33it/s]\n"
     ]
    },
    {
     "name": "stdout",
     "output_type": "stream",
     "text": [
      "40425 resulting instances from NMS\n"
     ]
    }
   ],
   "source": [
    "#%%script false --no-raise-error\n",
    "from Ensembler import Ensembler\n",
    "ens = Ensembler('output_'+dataset_name,dataset_name,[\"fold1\", \"fold2\", \"fold3\", \"fold4\",\"fold5\"],.2)\n",
    "ens.mean_score_nms()\n",
    "ens.save_coco_instances()"
   ]
  },
  {
   "cell_type": "markdown",
   "metadata": {},
   "source": [
    "# Evaluation"
   ]
  },
  {
   "cell_type": "markdown",
   "metadata": {},
   "source": [
    "## Ensemble"
   ]
  },
  {
   "cell_type": "code",
   "execution_count": 4,
   "metadata": {
    "tags": []
   },
   "outputs": [
    {
     "name": "stderr",
     "output_type": "stream",
     "text": [
      "Using previously cached COCO format annotations at 'output_test/test_coco_format.json'. You need to clear the cache file if your dataset has been modified.\n"
     ]
    },
    {
     "name": "stdout",
     "output_type": "stream",
     "text": [
      "loading annotations into memory...\n",
      "Done (t=0.10s)\n",
      "creating index...\n",
      "index created!\n",
      "Loading and preparing results...\n",
      "DONE (t=0.04s)\n",
      "creating index...\n",
      "index created!\n",
      "Calculated metrics for 1960 images\n",
      "Running per image evaluation...\n",
      "Evaluate annotation type *segm*\n",
      "DONE (t=0.21s).\n",
      "Accumulating evaluation results...\n",
      "DONE (t=0.01s).\n",
      "{'dataset': 'test', 'precision': 0.6388400702987698, 'precision_ci': (0.6105330907245708, 0.6662144591819852), 'recall': 0.6900000000000001, 'recall_ci': (0.6613750455776731, 0.7172397291664632), 'f1': 0.6634352144529234, 'f1_ci': (0.6436035547117265, 0.6832668741941204), 'fpr': 0.04431137724550898, 'fpr_ci': (0.03544331230466729, 0.055271125668436026), 'iou': 0.2, 'probability': 0.5}\n"
     ]
    },
    {
     "data": {
      "image/png": "[encoded data removed]",
      "text/plain": [
       "<Figure size 432x288 with 1 Axes>"
      ]
     },
     "metadata": {
      "needs_background": "light"
     },
     "output_type": "display_data"
    },
    {
     "data": {
      "image/png": "[encoded data removed]",
      "text/plain": [
       "<Figure size 432x288 with 1 Axes>"
      ]
     },
     "metadata": {
      "needs_background": "light"
     },
     "output_type": "display_data"
    },
    {
     "data": {
      "image/png": "[encoded data removed]",
      "text/plain": [
       "<Figure size 720x360 with 2 Axes>"
      ]
     },
     "metadata": {
      "needs_background": "light"
     },
     "output_type": "display_data"
    }
   ],
   "source": [
    "from plain_train_net import EvaluateClass,CreatePlotsRPD\n",
    "import json\n",
    "#evaluate ensemble\n",
    "myeval = EvaluateClass(\n",
    "    dataset_name, \"output_\"+ dataset_name,iou_thresh = .2,prob_thresh=0.5,evalsuper=False)\n",
    "myeval.evaluate()\n",
    "%precision 3\n",
    "print(myeval.summarize_scalars())\n",
    "with open(os.path.join(\"output_\"+ dataset_name,'scalar_dict.json'),\"w\") as outfile:\n",
    "    json.dump(obj=myeval.summarize_scalars(),fp=outfile)\n",
    "num_images = myeval.num_images\n",
    "myeval.plot_PRcurve()\n",
    "plt.tight_layout()\n",
    "myeval.plot_recall_vs_prob()\n",
    "plt.tight_layout()\n",
    "\n",
    "RPDplt = CreatePlotsRPD.initfromcoco(myeval.mycoco,myeval.prob_thresh)\n",
    "RPDplt.gt_dt_FP_FN_count();\n"
   ]
  },
  {
   "cell_type": "markdown",
   "metadata": {},
   "source": [
    "## Individual Models"
   ]
  },
  {
   "cell_type": "code",
   "execution_count": 5,
   "metadata": {},
   "outputs": [
    {
     "name": "stdout",
     "output_type": "stream",
     "text": [
      "loading annotations into memory...\n",
      "Done (t=0.02s)\n",
      "creating index...\n",
      "index created!\n",
      "Loading and preparing results...\n",
      "DONE (t=0.15s)\n",
      "creating index...\n",
      "index created!\n",
      "Calculated metrics for 1960 images\n",
      "Running per image evaluation...\n",
      "Evaluate annotation type *segm*\n",
      "DONE (t=0.18s).\n",
      "Accumulating evaluation results...\n",
      "DONE (t=0.01s).\n",
      "{'dataset': 'test', 'precision': 0.6124595469255664, 'precision_ci': (0.5850905041906551, 0.6391367091281999), 'recall': 0.72, 'recall_ci': (0.6920771570798393, 0.7463188978870552), 'f1': 0.6618900735919171, 'f1_ci': (0.6423593930717971, 0.6814207541120371), 'fpr': 0.046706586826347304, 'fpr_ci': (0.037584700763945544, 0.05790916197671044), 'iou': 0.2, 'probability': 0.5}\n",
      "loading annotations into memory...\n",
      "Done (t=0.01s)\n",
      "creating index...\n",
      "index created!\n",
      "Loading and preparing results...\n",
      "DONE (t=0.02s)\n",
      "creating index...\n",
      "index created!\n",
      "Calculated metrics for 1960 images\n",
      "Running per image evaluation...\n",
      "Evaluate annotation type *segm*\n",
      "DONE (t=0.17s).\n",
      "Accumulating evaluation results...\n",
      "DONE (t=0.01s).\n",
      "{'dataset': 'test', 'precision': 0.6139917695473252, 'precision_ci': (0.5864244654853534, 0.6408469318474748), 'recall': 0.71, 'recall_ci': (0.6818271936359455, 0.7366417679233629), 'f1': 0.6585149038013242, 'f1_ci': (0.6388929151079383, 0.67813689249471), 'fpr': 0.04610778443113772, 'fpr_ci': (0.03704865936250059, 0.05725034718626723), 'iou': 0.2, 'probability': 0.5}\n",
      "loading annotations into memory...\n",
      "Done (t=0.01s)\n",
      "creating index...\n",
      "index created!\n",
      "Loading and preparing results...\n",
      "DONE (t=0.17s)\n",
      "creating index...\n",
      "index created!\n",
      "Calculated metrics for 1960 images\n",
      "Running per image evaluation...\n",
      "Evaluate annotation type *segm*\n",
      "DONE (t=0.19s).\n",
      "Accumulating evaluation results...\n",
      "DONE (t=0.01s).\n",
      "{'dataset': 'test', 'precision': 0.5850903614457831, 'precision_ci': (0.5584526285325525, 0.6112397869557628), 'recall': 0.74, 'recall_ci': (0.7126274449084701, 0.7656227968735967), 'f1': 0.6534903280067283, 'f1_ci': (0.6340274202163528, 0.6729532357971039), 'fpr': 0.04910179640718563, 'fpr_ci': (0.0397332768636361, 0.06054001064457257), 'iou': 0.2, 'probability': 0.5}\n",
      "loading annotations into memory...\n",
      "Done (t=0.02s)\n",
      "creating index...\n",
      "index created!\n",
      "Loading and preparing results...\n",
      "DONE (t=0.02s)\n",
      "creating index...\n",
      "index created!\n",
      "Calculated metrics for 1960 images\n",
      "Running per image evaluation...\n",
      "Evaluate annotation type *segm*\n",
      "DONE (t=0.16s).\n",
      "Accumulating evaluation results...\n",
      "DONE (t=0.01s).\n",
      "{'dataset': 'test', 'precision': 0.6927835051546392, 'precision_ci': (0.6633612230784547, 0.7207169127941252), 'recall': 0.64, 'recall_ci': (0.6105044093690961, 0.6684748983371096), 'f1': 0.6653465346534654, 'f1_ci': (0.6448127217589306, 0.6858803475480002), 'fpr': 0.038922155688622756, 'fpr_ci': (0.030654468486233915, 0.04930626375987588), 'iou': 0.2, 'probability': 0.5}\n",
      "loading annotations into memory...\n",
      "Done (t=0.01s)\n",
      "creating index...\n",
      "index created!\n",
      "Loading and preparing results...\n",
      "DONE (t=0.03s)\n",
      "creating index...\n",
      "index created!\n",
      "Calculated metrics for 1960 images\n",
      "Running per image evaluation...\n",
      "Evaluate annotation type *segm*\n",
      "DONE (t=0.25s).\n",
      "Accumulating evaluation results...\n",
      "DONE (t=0.01s).\n",
      "{'dataset': 'test', 'precision': 0.635407537248028, 'precision_ci': (0.6071058023586627, 0.6628029073652992), 'recall': 0.6900000000000001, 'recall_ci': (0.6613750455776731, 0.7172397291664632), 'f1': 0.6615794589662036, 'f1_ci': (0.6417322218113221, 0.6814266961210852), 'fpr': 0.04431137724550898, 'fpr_ci': (0.03544331230466729, 0.055271125668436026), 'iou': 0.2, 'probability': 0.5}\n"
     ]
    }
   ],
   "source": [
    "#evaluate individual models\n",
    "import json\n",
    "myeval.evalsuper=False\n",
    "for mdl in (\"fold1\", \"fold2\", \"fold3\", \"fold4\",\"fold5\"):\n",
    "    myeval.reset()\n",
    "    output_dir = \"output_\"+ dataset_name + \"/\"+mdl\n",
    "    myeval._output_dir = output_dir\n",
    "    myeval.evaluate()\n",
    "    print(myeval.summarize_scalars())\n",
    "    with open(os.path.join(output_dir,'scalar_dict.json'),\"w\") as outfile:\n",
    "        json.dump(obj=myeval.summarize_scalars(),fp=outfile)\n"
   ]
  },
  {
   "cell_type": "code",
   "execution_count": 6,
   "metadata": {},
   "outputs": [
    {
     "data": {
      "text/html": [
       "<style type=\"text/css\">\n",
       "#T_e3d07_   {\n",
       "  margin: 0;\n",
       "  font-family: \"Helvetica\", \"Arial\", sans-serif;\n",
       "  border-collapse: collapse;\n",
       "  border: none;\n",
       "  border: 2px solid #ccf;\n",
       "}\n",
       "#T_e3d07_ tbody tr:nth-child(even) {\n",
       "  background-color: #fff;\n",
       "}\n",
       "#T_e3d07_ tbody tr:nth-child(odd) {\n",
       "  background-color: #eee;\n",
       "}\n",
       "#T_e3d07_ td {\n",
       "  padding: .5em;\n",
       "  text-align: center;\n",
       "}\n",
       "#T_e3d07_ th {\n",
       "  font-size: 125%;\n",
       "  text-align: center;\n",
       "}\n",
       "#T_e3d07_ caption {\n",
       "  caption-side: bottom;\n",
       "}\n",
       "#T_e3d07_ tbody tr:hover {\n",
       "  background-color: #add8e6;\n",
       "}\n",
       "</style>\n",
       "<table id=\"T_e3d07_\" style=\"font-size: 17px\">\n",
       "  <thead>\n",
       "    <tr>\n",
       "      <th class=\"blank level0\" >&nbsp;</th>\n",
       "      <th class=\"col_heading level0 col0\" >model</th>\n",
       "      <th class=\"col_heading level0 col1\" >dataset</th>\n",
       "      <th class=\"col_heading level0 col2\" >precision</th>\n",
       "      <th class=\"col_heading level0 col3\" >precision_ci</th>\n",
       "      <th class=\"col_heading level0 col4\" >recall</th>\n",
       "      <th class=\"col_heading level0 col5\" >recall_ci</th>\n",
       "      <th class=\"col_heading level0 col6\" >f1</th>\n",
       "      <th class=\"col_heading level0 col7\" >f1_ci</th>\n",
       "      <th class=\"col_heading level0 col8\" >fpr</th>\n",
       "      <th class=\"col_heading level0 col9\" >fpr_ci</th>\n",
       "      <th class=\"col_heading level0 col10\" >fp</th>\n",
       "      <th class=\"col_heading level0 col11\" >iou</th>\n",
       "      <th class=\"col_heading level0 col12\" >probability</th>\n",
       "    </tr>\n",
       "  </thead>\n",
       "  <tbody>\n",
       "    <tr>\n",
       "      <th id=\"T_e3d07_level0_row0\" class=\"row_heading level0 row0\" >0</th>\n",
       "      <td id=\"T_e3d07_row0_col0\" class=\"data row0 col0\" >1</td>\n",
       "      <td id=\"T_e3d07_row0_col1\" class=\"data row0 col1\" >test</td>\n",
       "      <td id=\"T_e3d07_row0_col2\" class=\"data row0 col2\" >0.612</td>\n",
       "      <td id=\"T_e3d07_row0_col3\" class=\"data row0 col3\" >[0.585, 0.639]</td>\n",
       "      <td id=\"T_e3d07_row0_col4\" class=\"data row0 col4\" >0.720</td>\n",
       "      <td id=\"T_e3d07_row0_col5\" class=\"data row0 col5\" >[0.692, 0.746]</td>\n",
       "      <td id=\"T_e3d07_row0_col6\" class=\"data row0 col6\" >0.662</td>\n",
       "      <td id=\"T_e3d07_row0_col7\" class=\"data row0 col7\" >[0.642, 0.681]</td>\n",
       "      <td id=\"T_e3d07_row0_col8\" class=\"data row0 col8\" >0.047</td>\n",
       "      <td id=\"T_e3d07_row0_col9\" class=\"data row0 col9\" >[0.038, 0.058]</td>\n",
       "      <td id=\"T_e3d07_row0_col10\" class=\"data row0 col10\" >91</td>\n",
       "      <td id=\"T_e3d07_row0_col11\" class=\"data row0 col11\" >0.200</td>\n",
       "      <td id=\"T_e3d07_row0_col12\" class=\"data row0 col12\" >0.500</td>\n",
       "    </tr>\n",
       "    <tr>\n",
       "      <th id=\"T_e3d07_level0_row1\" class=\"row_heading level0 row1\" >1</th>\n",
       "      <td id=\"T_e3d07_row1_col0\" class=\"data row1 col0\" >2</td>\n",
       "      <td id=\"T_e3d07_row1_col1\" class=\"data row1 col1\" >test</td>\n",
       "      <td id=\"T_e3d07_row1_col2\" class=\"data row1 col2\" >0.614</td>\n",
       "      <td id=\"T_e3d07_row1_col3\" class=\"data row1 col3\" >[0.586, 0.641]</td>\n",
       "      <td id=\"T_e3d07_row1_col4\" class=\"data row1 col4\" >0.710</td>\n",
       "      <td id=\"T_e3d07_row1_col5\" class=\"data row1 col5\" >[0.682, 0.737]</td>\n",
       "      <td id=\"T_e3d07_row1_col6\" class=\"data row1 col6\" >0.659</td>\n",
       "      <td id=\"T_e3d07_row1_col7\" class=\"data row1 col7\" >[0.639, 0.678]</td>\n",
       "      <td id=\"T_e3d07_row1_col8\" class=\"data row1 col8\" >0.046</td>\n",
       "      <td id=\"T_e3d07_row1_col9\" class=\"data row1 col9\" >[0.037, 0.057]</td>\n",
       "      <td id=\"T_e3d07_row1_col10\" class=\"data row1 col10\" >90</td>\n",
       "      <td id=\"T_e3d07_row1_col11\" class=\"data row1 col11\" >0.200</td>\n",
       "      <td id=\"T_e3d07_row1_col12\" class=\"data row1 col12\" >0.500</td>\n",
       "    </tr>\n",
       "    <tr>\n",
       "      <th id=\"T_e3d07_level0_row2\" class=\"row_heading level0 row2\" >2</th>\n",
       "      <td id=\"T_e3d07_row2_col0\" class=\"data row2 col0\" >3</td>\n",
       "      <td id=\"T_e3d07_row2_col1\" class=\"data row2 col1\" >test</td>\n",
       "      <td id=\"T_e3d07_row2_col2\" class=\"data row2 col2\" >0.585</td>\n",
       "      <td id=\"T_e3d07_row2_col3\" class=\"data row2 col3\" >[0.558, 0.611]</td>\n",
       "      <td id=\"T_e3d07_row2_col4\" class=\"data row2 col4\" >0.740</td>\n",
       "      <td id=\"T_e3d07_row2_col5\" class=\"data row2 col5\" >[0.713, 0.766]</td>\n",
       "      <td id=\"T_e3d07_row2_col6\" class=\"data row2 col6\" >0.653</td>\n",
       "      <td id=\"T_e3d07_row2_col7\" class=\"data row2 col7\" >[0.634, 0.673]</td>\n",
       "      <td id=\"T_e3d07_row2_col8\" class=\"data row2 col8\" >0.049</td>\n",
       "      <td id=\"T_e3d07_row2_col9\" class=\"data row2 col9\" >[0.04, 0.061]</td>\n",
       "      <td id=\"T_e3d07_row2_col10\" class=\"data row2 col10\" >96</td>\n",
       "      <td id=\"T_e3d07_row2_col11\" class=\"data row2 col11\" >0.200</td>\n",
       "      <td id=\"T_e3d07_row2_col12\" class=\"data row2 col12\" >0.500</td>\n",
       "    </tr>\n",
       "    <tr>\n",
       "      <th id=\"T_e3d07_level0_row3\" class=\"row_heading level0 row3\" >3</th>\n",
       "      <td id=\"T_e3d07_row3_col0\" class=\"data row3 col0\" >4</td>\n",
       "      <td id=\"T_e3d07_row3_col1\" class=\"data row3 col1\" >test</td>\n",
       "      <td id=\"T_e3d07_row3_col2\" class=\"data row3 col2\" >0.693</td>\n",
       "      <td id=\"T_e3d07_row3_col3\" class=\"data row3 col3\" >[0.663, 0.721]</td>\n",
       "      <td id=\"T_e3d07_row3_col4\" class=\"data row3 col4\" >0.640</td>\n",
       "      <td id=\"T_e3d07_row3_col5\" class=\"data row3 col5\" >[0.611, 0.668]</td>\n",
       "      <td id=\"T_e3d07_row3_col6\" class=\"data row3 col6\" >0.665</td>\n",
       "      <td id=\"T_e3d07_row3_col7\" class=\"data row3 col7\" >[0.645, 0.686]</td>\n",
       "      <td id=\"T_e3d07_row3_col8\" class=\"data row3 col8\" >0.039</td>\n",
       "      <td id=\"T_e3d07_row3_col9\" class=\"data row3 col9\" >[0.031, 0.049]</td>\n",
       "      <td id=\"T_e3d07_row3_col10\" class=\"data row3 col10\" >76</td>\n",
       "      <td id=\"T_e3d07_row3_col11\" class=\"data row3 col11\" >0.200</td>\n",
       "      <td id=\"T_e3d07_row3_col12\" class=\"data row3 col12\" >0.500</td>\n",
       "    </tr>\n",
       "    <tr>\n",
       "      <th id=\"T_e3d07_level0_row4\" class=\"row_heading level0 row4\" >4</th>\n",
       "      <td id=\"T_e3d07_row4_col0\" class=\"data row4 col0\" >5</td>\n",
       "      <td id=\"T_e3d07_row4_col1\" class=\"data row4 col1\" >test</td>\n",
       "      <td id=\"T_e3d07_row4_col2\" class=\"data row4 col2\" >0.635</td>\n",
       "      <td id=\"T_e3d07_row4_col3\" class=\"data row4 col3\" >[0.607, 0.663]</td>\n",
       "      <td id=\"T_e3d07_row4_col4\" class=\"data row4 col4\" >0.690</td>\n",
       "      <td id=\"T_e3d07_row4_col5\" class=\"data row4 col5\" >[0.661, 0.717]</td>\n",
       "      <td id=\"T_e3d07_row4_col6\" class=\"data row4 col6\" >0.662</td>\n",
       "      <td id=\"T_e3d07_row4_col7\" class=\"data row4 col7\" >[0.642, 0.681]</td>\n",
       "      <td id=\"T_e3d07_row4_col8\" class=\"data row4 col8\" >0.044</td>\n",
       "      <td id=\"T_e3d07_row4_col9\" class=\"data row4 col9\" >[0.035, 0.055]</td>\n",
       "      <td id=\"T_e3d07_row4_col10\" class=\"data row4 col10\" >86</td>\n",
       "      <td id=\"T_e3d07_row4_col11\" class=\"data row4 col11\" >0.200</td>\n",
       "      <td id=\"T_e3d07_row4_col12\" class=\"data row4 col12\" >0.500</td>\n",
       "    </tr>\n",
       "    <tr>\n",
       "      <th id=\"T_e3d07_level0_row5\" class=\"row_heading level0 row5\" >5</th>\n",
       "      <td id=\"T_e3d07_row5_col0\" class=\"data row5 col0\" >ensemble</td>\n",
       "      <td id=\"T_e3d07_row5_col1\" class=\"data row5 col1\" >test</td>\n",
       "      <td id=\"T_e3d07_row5_col2\" class=\"data row5 col2\" >0.639</td>\n",
       "      <td id=\"T_e3d07_row5_col3\" class=\"data row5 col3\" >[0.611, 0.666]</td>\n",
       "      <td id=\"T_e3d07_row5_col4\" class=\"data row5 col4\" >0.690</td>\n",
       "      <td id=\"T_e3d07_row5_col5\" class=\"data row5 col5\" >[0.661, 0.717]</td>\n",
       "      <td id=\"T_e3d07_row5_col6\" class=\"data row5 col6\" >0.663</td>\n",
       "      <td id=\"T_e3d07_row5_col7\" class=\"data row5 col7\" >[0.644, 0.683]</td>\n",
       "      <td id=\"T_e3d07_row5_col8\" class=\"data row5 col8\" >0.044</td>\n",
       "      <td id=\"T_e3d07_row5_col9\" class=\"data row5 col9\" >[0.035, 0.055]</td>\n",
       "      <td id=\"T_e3d07_row5_col10\" class=\"data row5 col10\" >86</td>\n",
       "      <td id=\"T_e3d07_row5_col11\" class=\"data row5 col11\" >0.200</td>\n",
       "      <td id=\"T_e3d07_row5_col12\" class=\"data row5 col12\" >0.500</td>\n",
       "    </tr>\n",
       "  </tbody>\n",
       "</table>\n"
      ],
      "text/plain": [
       "<pandas.io.formats.style.Styler at 0x7f3397193b10>"
      ]
     },
     "execution_count": 6,
     "metadata": {},
     "output_type": "execute_result"
    }
   ],
   "source": [
    "import json, os\n",
    "import pandas as pd\n",
    "import numpy as np\n",
    "from table_styles import styles\n",
    "mydicts=[]\n",
    "\n",
    "for mdl in ['fold1','fold2','fold3','fold4','fold5']:\n",
    "    output_dir = \"output_\"+ dataset_name + \"/\"+mdl\n",
    "    with open(os.path.join(output_dir,'scalar_dict.json')) as f:\n",
    "        mydicts.append(json.load(f))\n",
    "with open(os.path.join(\"output_\"+ dataset_name,'scalar_dict.json')) as f:\n",
    "    mydicts.append(json.load(f))\n",
    "dfr = pd.DataFrame(mydicts)\n",
    "dfr = dfr.assign(fp = np.int32(dfr.fpr*num_images))\n",
    "#dfr = dfr.assign(f1 = 2*(dfr.precision*dfr.recall)/(dfr.precision + dfr.recall))\n",
    "dfr = dfr.assign(model = ['1','2','3','4','5','ensemble'])\n",
    "# dfr = dfr[['model','fpr','fp','probability','dataset']]\n",
    "dfr['precision_ci'] = dfr['precision_ci'].apply(lambda x: pd.Interval(np.round(x[0],3),np.round(x[1],3),closed='both'))\n",
    "dfr['recall_ci'] = dfr['recall_ci'].apply(lambda x: pd.Interval(np.round(x[0],3),np.round(x[1],3),closed='both'))\n",
    "dfr['f1_ci'] = dfr['f1_ci'].apply(lambda x: pd.Interval(np.round(x[0],3),np.round(x[1],3),closed='both'))\n",
    "dfr['fpr_ci'] = dfr['fpr_ci'].apply(lambda x: pd.Interval(np.round(x[0],3),np.round(x[1],3),closed='both'))\n",
    "dfr = dfr[['model','dataset','precision','precision_ci','recall','recall_ci','f1','f1_ci','fpr','fpr_ci','fp','iou','probability']]\n",
    "pd.set_option('display.precision',3)\n",
    "dfr.style.set_table_styles(styles).set_table_attributes('style=\"font-size: 17px\"')"
   ]
  },
  {
   "cell_type": "markdown",
   "metadata": {},
   "source": [
    "# Visualize Output"
   ]
  },
  {
   "cell_type": "code",
   "execution_count": 27,
   "metadata": {
    "tags": []
   },
   "outputs": [
    {
     "name": "stderr",
     "output_type": "stream",
     "text": [
      "100%|██████████| 50/50 [00:50<00:00,  1.01s/it]\n"
     ]
    }
   ],
   "source": [
    "\n",
    "from plain_train_net import OutputVis\n",
    "\n",
    "dataset_name = 'ext_test'\n",
    "pred_file = \"output_\"+ dataset_name + \"/coco_instances_results.json\"\n",
    "out_file = os.path.join(\"output_\"+ dataset_name,'mean_score_nms_'+dataset_name+'_nonrpd.pdf')\n",
    "\n",
    "# mdl = 'fold1'\n",
    "# pred_file = os.path.join(\"output_\"+ dataset_name,mdl,\"coco_instances_results.json\")\n",
    "# out_file = os.path.join(\"output_\"+ dataset_name,'mean_score_nms_'+mdl+'.pdf')\n",
    "\n",
    "# vis = OutputVis(dataset_name,prob_thresh = 0.5,pred_mode='file',pred_file=pred_file,has_annotations=False)\n",
    "# ImgIds = RPDplt.dfimg.index[RPDplt.dfimg.dt_instances>0] #np.abs(df.gt_xpxs-df.dt_xpxs).sort_values(ascending=False).index[0:50].values\n",
    "# vis.output_to_pdf(ImgIds,out_file)\n",
    "\n",
    "df = RPDplt.dfimg\n",
    "vis = OutputVis(dataset_name,prob_thresh = 0.5,pred_mode='file',pred_file=pred_file,has_annotations=False)\n",
    "ImgIds = RPDplt.dfimg[RPDplt.dfimg.dt_instances==0].sample(50).index.values\n",
    "#ImgIds = np.abs(df.gt_xpxs-df.dt_xpxs).sort_values(ascending=False).index[0:10].values\n",
    "vis.output_to_pdf(ImgIds,out_file)\n"
   ]
  },
  {
   "cell_type": "code",
   "execution_count": 28,
   "metadata": {},
   "outputs": [],
   "source": [
    "from table_styles import styles\n",
    "dfpts = RPDplt.dfpts.sort_values(by=['dt_instances'],ascending=False)\n",
    "html_str = dfpts.style.format('{:.0f}').set_table_styles(styles).render()\n",
    "html_file = open(os.path.join('output_'+ dataset_name + '/dfpts_'+dataset_name+'.html'),'w')\n",
    "html_file.write(html_str)\n",
    "html_file.close()"
   ]
  },
  {
   "cell_type": "code",
   "execution_count": 34,
   "metadata": {},
   "outputs": [],
   "source": [
    "dfimg = RPDplt.dfimg.sort_index()\n",
    "html_str = dfimg.style.set_table_styles(styles).render()\n",
    "html_file = open(os.path.join('output_'+ dataset_name + '/dfimg_'+dataset_name+'.html'),'w')\n",
    "html_file.write(html_str)\n",
    "html_file.close()"
   ]
  },
  {
   "cell_type": "code",
   "execution_count": 36,
   "metadata": {},
   "outputs": [
    {
     "data": {
      "text/plain": [
       "gt_instances          0.0\n",
       "gt_pxs                0.0\n",
       "gt_xpxs               0.0\n",
       "dt_instances       6897.0\n",
       "dt_pxs          1424332.0\n",
       "dt_xpxs          232663.0\n",
       "dtype: float64"
      ]
     },
     "execution_count": 36,
     "metadata": {},
     "output_type": "execute_result"
    }
   ],
   "source": [
    "dfpts.sum()"
   ]
  }
 ],
 "metadata": {
  "interpreter": {
   "hash": "b0122a9a100fde86447053a2d82169efd56332aef873a4abfb4540bf3c983ad4"
  },
  "kernelspec": {
   "display_name": "Python 3.7.10 64-bit ('detectron': conda)",
   "name": "python3"
  },
  "language_info": {
   "codemirror_mode": {
    "name": "ipython",
    "version": 3
   },
   "file_extension": ".py",
   "mimetype": "text/x-python",
   "name": "python",
   "nbconvert_exporter": "python",
   "pygments_lexer": "ipython3",
   "version": "3.7.10"
  }
 },
 "nbformat": 4,
 "nbformat_minor": 5
}
