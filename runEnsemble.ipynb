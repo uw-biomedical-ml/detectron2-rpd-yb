{
 "cells": [
  {
   "cell_type": "code",
   "execution_count": 5,
   "metadata": {
    "tags": []
   },
   "outputs": [],
   "source": [
    "import shutil, os\n",
    "os.environ[\"CUDA_DEVICE_ORDER\"]=\"PCI_BUS_ID\"\n",
    "os.environ[\"CUDA_VISIBLE_DEVICES\"] = \"4\"\n",
    "import matplotlib.pyplot as plt\n",
    "import numpy as np\n",
    "import detectron2\n",
    "from detectron2.data import DatasetCatalog,MetadataCatalog\n",
    "from plain_train_net import grab_dataset\n",
    "import detectron2.utils.comm as comm\n",
    "from detectron2.engine import launch\n",
    "\n",
    "\n",
    "\n",
    "reprocess_results=True\n",
    "# dataset_name = \"reserves_fold1\"\n",
    "# dataset_name = \"dfsemisup_long_fold1\"\n",
    "# dataset_name = \"dfCERA_long\"\n",
    "dataset_name = \"dfCERA_49vs97\"\n",
    "dpi=120"
   ]
  },
  {
   "cell_type": "code",
   "execution_count": 6,
   "metadata": {
    "tags": []
   },
   "outputs": [
    {
     "name": "stdout",
     "output_type": "stream",
     "text": [
      "BATCH_SIZE_PER_IMAGE: 512\n",
      "IN_FEATURES:\n",
      "- p2\n",
      "- p3\n",
      "- p4\n",
      "- p5\n",
      "IOU_LABELS:\n",
      "- 0\n",
      "- 1\n",
      "IOU_THRESHOLDS:\n",
      "- 0.5\n",
      "NAME: StandardROIHeads\n",
      "NMS_THRESH_TEST: 0.01\n",
      "NUM_CLASSES: 1\n",
      "POSITIVE_FRACTION: 0.25\n",
      "PROPOSAL_APPEND_GT: true\n",
      "SCORE_THRESH_TEST: 0.001\n",
      "\n",
      "detectron2://ImageNetPretrained/FAIR/X-101-32x8d.pkl\n",
      "./output\n",
      "ASPECT_RATIO_GROUPING: True\n",
      "FILTER_EMPTY_ANNOTATIONS: False\n",
      "NUM_WORKERS: 4\n",
      "REPEAT_THRESHOLD: 0.001\n",
      "SAMPLER_TRAIN: RepeatFactorTrainingSampler\n"
     ]
    }
   ],
   "source": [
    "#predict\n",
    "from detectron2.config import get_cfg\n",
    "cfg = get_cfg()\n",
    "cfg.merge_from_file('configs/working.yaml')\n",
    "#really low iou for nms in order to separate out lesions\n",
    "# cfg.merge_from_list([\"MODEL.WEIGHTS\", \"output_valid_fold1/model_final.pth\",\n",
    "#                      \"OUTPUT_DIR\", \"output_valid_\"+ dataset_name + \"/results\"])\n",
    "#print(cfg.dump())  # print formatted configs\n",
    "#cfg.merge_from_list(['DATALOADER.NUM_WORKERS',8])\n",
    "print(cfg.MODEL.ROI_HEADS.dump())\n",
    "print(cfg.MODEL.WEIGHTS)\n",
    "print(cfg.OUTPUT_DIR)\n",
    "print(cfg.DATALOADER)\n"
   ]
  },
  {
   "cell_type": "code",
   "execution_count": 7,
   "metadata": {},
   "outputs": [],
   "source": [
    "for name in [dataset_name]:\n",
    "    try:\n",
    "        DatasetCatalog.register(name, grab_dataset(name))\n",
    "    except:\n",
    "        print('Already registered.')\n",
    "        #do nothing\n",
    "    MetadataCatalog.get(name).thing_classes = [\"rpd\"]"
   ]
  },
  {
   "cell_type": "markdown",
   "metadata": {},
   "source": [
    "# Prediction\n"
   ]
  },
  {
   "cell_type": "code",
   "execution_count": 8,
   "metadata": {},
   "outputs": [
    {
     "name": "stderr",
     "output_type": "stream",
     "text": [
      "INFO:detectron2.data.dataset_mapper:[DatasetMapper] Augmentations used in inference: [ResizeShortestEdge(short_edge_length=(496, 496), max_size=1333, sample_style='choice')]\n",
      "INFO:detectron2.data.common:Serializing 730 elements to byte tensors and concatenating them all ...\n",
      "INFO:detectron2.data.common:Serialized dataset takes 0.11 MiB\n",
      "INFO:detectron2.evaluation.coco_evaluation:Trying to convert 'dfCERA_49vs97' to COCO format ...\n",
      "INFO:detectron2.data.datasets.coco:Converting annotations of dataset 'dfCERA_49vs97' to COCO format ...)\n",
      "INFO:detectron2.data.datasets.coco:Converting dataset dicts into COCO format\n",
      "INFO:detectron2.data.datasets.coco:Conversion finished, #images: 730, #annotations: 0\n",
      "INFO:detectron2.data.datasets.coco:Caching COCO format annotations at 'output_dfCERA_49vs97/dfCERA_49vs97_coco_format.json' ...\n",
      "INFO:fvcore.common.checkpoint:[Checkpointer] Loading from output_valid_fold1/model_final.pth ...\n",
      "INFO:detectron2.evaluation.evaluator:Start inference on 730 batches\n",
      "INFO:detectron2.evaluation.evaluator:Inference done 11/730. Dataloading: 0.0080 s/iter. Inference: 0.1325 s/iter. Eval: 0.0113 s/iter. Total: 0.1518 s/iter. ETA=0:01:49\n",
      "INFO:detectron2.evaluation.evaluator:Inference done 55/730. Dataloading: 0.0046 s/iter. Inference: 0.0990 s/iter. Eval: 0.0145 s/iter. Total: 0.1184 s/iter. ETA=0:01:19\n",
      "INFO:detectron2.evaluation.evaluator:Inference done 93/730. Dataloading: 0.0054 s/iter. Inference: 0.1030 s/iter. Eval: 0.0159 s/iter. Total: 0.1244 s/iter. ETA=0:01:19\n",
      "INFO:detectron2.evaluation.evaluator:Inference done 136/730. Dataloading: 0.0057 s/iter. Inference: 0.1003 s/iter. Eval: 0.0157 s/iter. Total: 0.1219 s/iter. ETA=0:01:12\n",
      "INFO:detectron2.evaluation.evaluator:Inference done 179/730. Dataloading: 0.0059 s/iter. Inference: 0.1007 s/iter. Eval: 0.0144 s/iter. Total: 0.1211 s/iter. ETA=0:01:06\n",
      "INFO:detectron2.evaluation.evaluator:Inference done 221/730. Dataloading: 0.0061 s/iter. Inference: 0.1004 s/iter. Eval: 0.0146 s/iter. Total: 0.1213 s/iter. ETA=0:01:01\n",
      "INFO:detectron2.evaluation.evaluator:Inference done 261/730. Dataloading: 0.0063 s/iter. Inference: 0.1011 s/iter. Eval: 0.0146 s/iter. Total: 0.1221 s/iter. ETA=0:00:57\n",
      "INFO:detectron2.evaluation.evaluator:Inference done 301/730. Dataloading: 0.0067 s/iter. Inference: 0.1011 s/iter. Eval: 0.0146 s/iter. Total: 0.1226 s/iter. ETA=0:00:52\n",
      "INFO:detectron2.evaluation.evaluator:Inference done 348/730. Dataloading: 0.0072 s/iter. Inference: 0.0993 s/iter. Eval: 0.0140 s/iter. Total: 0.1206 s/iter. ETA=0:00:46\n",
      "INFO:detectron2.evaluation.evaluator:Inference done 388/730. Dataloading: 0.0074 s/iter. Inference: 0.0997 s/iter. Eval: 0.0142 s/iter. Total: 0.1214 s/iter. ETA=0:00:41\n",
      "INFO:detectron2.evaluation.evaluator:Inference done 431/730. Dataloading: 0.0082 s/iter. Inference: 0.0988 s/iter. Eval: 0.0139 s/iter. Total: 0.1211 s/iter. ETA=0:00:36\n",
      "INFO:detectron2.evaluation.evaluator:Inference done 468/730. Dataloading: 0.0087 s/iter. Inference: 0.0992 s/iter. Eval: 0.0144 s/iter. Total: 0.1224 s/iter. ETA=0:00:32\n",
      "INFO:detectron2.evaluation.evaluator:Inference done 507/730. Dataloading: 0.0088 s/iter. Inference: 0.0993 s/iter. Eval: 0.0147 s/iter. Total: 0.1229 s/iter. ETA=0:00:27\n",
      "INFO:detectron2.evaluation.evaluator:Inference done 548/730. Dataloading: 0.0089 s/iter. Inference: 0.0992 s/iter. Eval: 0.0149 s/iter. Total: 0.1232 s/iter. ETA=0:00:22\n",
      "INFO:detectron2.evaluation.evaluator:Inference done 590/730. Dataloading: 0.0087 s/iter. Inference: 0.0990 s/iter. Eval: 0.0150 s/iter. Total: 0.1229 s/iter. ETA=0:00:17\n",
      "INFO:detectron2.evaluation.evaluator:Inference done 638/730. Dataloading: 0.0086 s/iter. Inference: 0.0982 s/iter. Eval: 0.0146 s/iter. Total: 0.1216 s/iter. ETA=0:00:11\n",
      "INFO:detectron2.evaluation.evaluator:Inference done 682/730. Dataloading: 0.0087 s/iter. Inference: 0.0980 s/iter. Eval: 0.0144 s/iter. Total: 0.1212 s/iter. ETA=0:00:05\n",
      "INFO:detectron2.evaluation.evaluator:Inference done 730/730. Dataloading: 0.0089 s/iter. Inference: 0.0971 s/iter. Eval: 0.0139 s/iter. Total: 0.1201 s/iter. ETA=0:00:00\n",
      "INFO:detectron2.evaluation.evaluator:Total inference time: 0:01:27.208040 (0.120287 s / iter per device, on 1 devices)\n",
      "INFO:detectron2.evaluation.evaluator:Total inference pure compute time: 0:01:10 (0.097097 s / iter per device, on 1 devices)\n",
      "INFO:detectron2.evaluation.coco_evaluation:Preparing results for COCO format ...\n",
      "INFO:detectron2.evaluation.coco_evaluation:Saving results to output_dfCERA_49vs97/fold1/coco_instances_results.json\n",
      "INFO:detectron2.evaluation.coco_evaluation:Annotations are not available for evaluation.\n",
      "INFO:fvcore.common.checkpoint:[Checkpointer] Loading from output_valid_fold2/model_final.pth ...\n",
      "INFO:detectron2.evaluation.evaluator:Start inference on 730 batches\n",
      "INFO:detectron2.evaluation.evaluator:Inference done 32/730. Dataloading: 0.0046 s/iter. Inference: 0.0950 s/iter. Eval: 0.0102 s/iter. Total: 0.1099 s/iter. ETA=0:01:16\n",
      "INFO:detectron2.evaluation.evaluator:Inference done 85/730. Dataloading: 0.0036 s/iter. Inference: 0.0866 s/iter. Eval: 0.0100 s/iter. Total: 0.1003 s/iter. ETA=0:01:04\n",
      "INFO:detectron2.evaluation.evaluator:Inference done 135/730. Dataloading: 0.0043 s/iter. Inference: 0.0859 s/iter. Eval: 0.0103 s/iter. Total: 0.1006 s/iter. ETA=0:00:59\n",
      "INFO:detectron2.evaluation.evaluator:Inference done 188/730. Dataloading: 0.0044 s/iter. Inference: 0.0850 s/iter. Eval: 0.0096 s/iter. Total: 0.0991 s/iter. ETA=0:00:53\n",
      "INFO:detectron2.evaluation.evaluator:Inference done 238/730. Dataloading: 0.0045 s/iter. Inference: 0.0856 s/iter. Eval: 0.0096 s/iter. Total: 0.0998 s/iter. ETA=0:00:49\n",
      "INFO:detectron2.evaluation.evaluator:Inference done 280/730. Dataloading: 0.0056 s/iter. Inference: 0.0871 s/iter. Eval: 0.0100 s/iter. Total: 0.1028 s/iter. ETA=0:00:46\n",
      "INFO:detectron2.evaluation.evaluator:Inference done 321/730. Dataloading: 0.0055 s/iter. Inference: 0.0892 s/iter. Eval: 0.0108 s/iter. Total: 0.1056 s/iter. ETA=0:00:43\n",
      "INFO:detectron2.evaluation.evaluator:Inference done 368/730. Dataloading: 0.0053 s/iter. Inference: 0.0894 s/iter. Eval: 0.0111 s/iter. Total: 0.1059 s/iter. ETA=0:00:38\n",
      "INFO:detectron2.evaluation.evaluator:Inference done 416/730. Dataloading: 0.0060 s/iter. Inference: 0.0888 s/iter. Eval: 0.0110 s/iter. Total: 0.1059 s/iter. ETA=0:00:33\n",
      "INFO:detectron2.evaluation.evaluator:Inference done 463/730. Dataloading: 0.0062 s/iter. Inference: 0.0886 s/iter. Eval: 0.0111 s/iter. Total: 0.1060 s/iter. ETA=0:00:28\n",
      "INFO:detectron2.evaluation.evaluator:Inference done 509/730. Dataloading: 0.0060 s/iter. Inference: 0.0889 s/iter. Eval: 0.0112 s/iter. Total: 0.1063 s/iter. ETA=0:00:23\n",
      "INFO:detectron2.evaluation.evaluator:Inference done 554/730. Dataloading: 0.0062 s/iter. Inference: 0.0891 s/iter. Eval: 0.0114 s/iter. Total: 0.1068 s/iter. ETA=0:00:18\n",
      "INFO:detectron2.evaluation.evaluator:Inference done 592/730. Dataloading: 0.0063 s/iter. Inference: 0.0903 s/iter. Eval: 0.0117 s/iter. Total: 0.1084 s/iter. ETA=0:00:14\n",
      "INFO:detectron2.evaluation.evaluator:Inference done 638/730. Dataloading: 0.0060 s/iter. Inference: 0.0910 s/iter. Eval: 0.0115 s/iter. Total: 0.1086 s/iter. ETA=0:00:09\n",
      "INFO:detectron2.evaluation.evaluator:Inference done 685/730. Dataloading: 0.0060 s/iter. Inference: 0.0912 s/iter. Eval: 0.0112 s/iter. Total: 0.1085 s/iter. ETA=0:00:04\n",
      "INFO:detectron2.evaluation.evaluator:Total inference time: 0:01:18.497201 (0.108272 s / iter per device, on 1 devices)\n",
      "INFO:detectron2.evaluation.evaluator:Total inference pure compute time: 0:01:05 (0.090974 s / iter per device, on 1 devices)\n",
      "INFO:detectron2.evaluation.coco_evaluation:Preparing results for COCO format ...\n",
      "INFO:detectron2.evaluation.coco_evaluation:Saving results to output_dfCERA_49vs97/fold2/coco_instances_results.json\n",
      "INFO:detectron2.evaluation.coco_evaluation:Annotations are not available for evaluation.\n",
      "INFO:fvcore.common.checkpoint:[Checkpointer] Loading from output_valid_fold3/model_final.pth ...\n",
      "INFO:detectron2.evaluation.evaluator:Start inference on 730 batches\n",
      "INFO:detectron2.evaluation.evaluator:Inference done 11/730. Dataloading: 0.0087 s/iter. Inference: 0.0936 s/iter. Eval: 0.0050 s/iter. Total: 0.1073 s/iter. ETA=0:01:17\n",
      "INFO:detectron2.evaluation.evaluator:Inference done 58/730. Dataloading: 0.0051 s/iter. Inference: 0.0918 s/iter. Eval: 0.0106 s/iter. Total: 0.1077 s/iter. ETA=0:01:12\n",
      "INFO:detectron2.evaluation.evaluator:Inference done 106/730. Dataloading: 0.0053 s/iter. Inference: 0.0895 s/iter. Eval: 0.0113 s/iter. Total: 0.1062 s/iter. ETA=0:01:06\n",
      "INFO:detectron2.evaluation.evaluator:Inference done 148/730. Dataloading: 0.0055 s/iter. Inference: 0.0932 s/iter. Eval: 0.0112 s/iter. Total: 0.1100 s/iter. ETA=0:01:04\n",
      "INFO:detectron2.evaluation.evaluator:Inference done 191/730. Dataloading: 0.0059 s/iter. Inference: 0.0946 s/iter. Eval: 0.0111 s/iter. Total: 0.1117 s/iter. ETA=0:01:00\n",
      "INFO:detectron2.evaluation.evaluator:Inference done 235/730. Dataloading: 0.0056 s/iter. Inference: 0.0951 s/iter. Eval: 0.0114 s/iter. Total: 0.1122 s/iter. ETA=0:00:55\n",
      "INFO:detectron2.evaluation.evaluator:Inference done 278/730. Dataloading: 0.0062 s/iter. Inference: 0.0954 s/iter. Eval: 0.0114 s/iter. Total: 0.1131 s/iter. ETA=0:00:51\n",
      "INFO:detectron2.evaluation.evaluator:Inference done 327/730. Dataloading: 0.0062 s/iter. Inference: 0.0940 s/iter. Eval: 0.0114 s/iter. Total: 0.1117 s/iter. ETA=0:00:45\n",
      "INFO:detectron2.evaluation.evaluator:Inference done 368/730. Dataloading: 0.0067 s/iter. Inference: 0.0946 s/iter. Eval: 0.0116 s/iter. Total: 0.1130 s/iter. ETA=0:00:40\n",
      "INFO:detectron2.evaluation.evaluator:Inference done 411/730. Dataloading: 0.0066 s/iter. Inference: 0.0951 s/iter. Eval: 0.0116 s/iter. Total: 0.1134 s/iter. ETA=0:00:36\n",
      "INFO:detectron2.evaluation.evaluator:Inference done 454/730. Dataloading: 0.0066 s/iter. Inference: 0.0951 s/iter. Eval: 0.0119 s/iter. Total: 0.1137 s/iter. ETA=0:00:31\n",
      "INFO:detectron2.evaluation.evaluator:Inference done 497/730. Dataloading: 0.0064 s/iter. Inference: 0.0952 s/iter. Eval: 0.0124 s/iter. Total: 0.1141 s/iter. ETA=0:00:26\n",
      "INFO:detectron2.evaluation.evaluator:Inference done 535/730. Dataloading: 0.0068 s/iter. Inference: 0.0957 s/iter. Eval: 0.0130 s/iter. Total: 0.1156 s/iter. ETA=0:00:22\n",
      "INFO:detectron2.evaluation.evaluator:Inference done 578/730. Dataloading: 0.0067 s/iter. Inference: 0.0958 s/iter. Eval: 0.0131 s/iter. Total: 0.1157 s/iter. ETA=0:00:17\n",
      "INFO:detectron2.evaluation.evaluator:Inference done 619/730. Dataloading: 0.0067 s/iter. Inference: 0.0961 s/iter. Eval: 0.0132 s/iter. Total: 0.1162 s/iter. ETA=0:00:12\n",
      "INFO:detectron2.evaluation.evaluator:Inference done 668/730. Dataloading: 0.0067 s/iter. Inference: 0.0955 s/iter. Eval: 0.0129 s/iter. Total: 0.1152 s/iter. ETA=0:00:07\n",
      "INFO:detectron2.evaluation.evaluator:Inference done 711/730. Dataloading: 0.0067 s/iter. Inference: 0.0958 s/iter. Eval: 0.0129 s/iter. Total: 0.1154 s/iter. ETA=0:00:02\n",
      "INFO:detectron2.evaluation.evaluator:Total inference time: 0:01:24.565077 (0.116641 s / iter per device, on 1 devices)\n",
      "INFO:detectron2.evaluation.evaluator:Total inference pure compute time: 0:01:10 (0.096617 s / iter per device, on 1 devices)\n",
      "INFO:detectron2.evaluation.coco_evaluation:Preparing results for COCO format ...\n",
      "INFO:detectron2.evaluation.coco_evaluation:Saving results to output_dfCERA_49vs97/fold3/coco_instances_results.json\n",
      "INFO:detectron2.evaluation.coco_evaluation:Annotations are not available for evaluation.\n",
      "INFO:fvcore.common.checkpoint:[Checkpointer] Loading from output_valid_fold4/model_final.pth ...\n",
      "INFO:detectron2.evaluation.evaluator:Start inference on 730 batches\n",
      "INFO:detectron2.evaluation.evaluator:Inference done 11/730. Dataloading: 0.0026 s/iter. Inference: 0.1177 s/iter. Eval: 0.0189 s/iter. Total: 0.1392 s/iter. ETA=0:01:40\n",
      "INFO:detectron2.evaluation.evaluator:Inference done 53/730. Dataloading: 0.0088 s/iter. Inference: 0.1004 s/iter. Eval: 0.0138 s/iter. Total: 0.1233 s/iter. ETA=0:01:23\n",
      "INFO:detectron2.evaluation.evaluator:Inference done 96/730. Dataloading: 0.0066 s/iter. Inference: 0.0992 s/iter. Eval: 0.0139 s/iter. Total: 0.1200 s/iter. ETA=0:01:16\n",
      "INFO:detectron2.evaluation.evaluator:Inference done 138/730. Dataloading: 0.0064 s/iter. Inference: 0.0995 s/iter. Eval: 0.0143 s/iter. Total: 0.1204 s/iter. ETA=0:01:11\n",
      "INFO:detectron2.evaluation.evaluator:Inference done 185/730. Dataloading: 0.0072 s/iter. Inference: 0.0975 s/iter. Eval: 0.0127 s/iter. Total: 0.1176 s/iter. ETA=0:01:04\n",
      "INFO:detectron2.evaluation.evaluator:Inference done 231/730. Dataloading: 0.0069 s/iter. Inference: 0.0970 s/iter. Eval: 0.0126 s/iter. Total: 0.1165 s/iter. ETA=0:00:58\n",
      "INFO:detectron2.evaluation.evaluator:Inference done 276/730. Dataloading: 0.0071 s/iter. Inference: 0.0965 s/iter. Eval: 0.0118 s/iter. Total: 0.1157 s/iter. ETA=0:00:52\n",
      "INFO:detectron2.evaluation.evaluator:Inference done 321/730. Dataloading: 0.0077 s/iter. Inference: 0.0960 s/iter. Eval: 0.0115 s/iter. Total: 0.1153 s/iter. ETA=0:00:47\n",
      "INFO:detectron2.evaluation.evaluator:Inference done 365/730. Dataloading: 0.0076 s/iter. Inference: 0.0958 s/iter. Eval: 0.0116 s/iter. Total: 0.1151 s/iter. ETA=0:00:42\n",
      "INFO:detectron2.evaluation.evaluator:Inference done 406/730. Dataloading: 0.0077 s/iter. Inference: 0.0963 s/iter. Eval: 0.0118 s/iter. Total: 0.1159 s/iter. ETA=0:00:37\n",
      "INFO:detectron2.evaluation.evaluator:Inference done 449/730. Dataloading: 0.0078 s/iter. Inference: 0.0962 s/iter. Eval: 0.0119 s/iter. Total: 0.1160 s/iter. ETA=0:00:32\n",
      "INFO:detectron2.evaluation.evaluator:Inference done 492/730. Dataloading: 0.0078 s/iter. Inference: 0.0960 s/iter. Eval: 0.0123 s/iter. Total: 0.1163 s/iter. ETA=0:00:27\n",
      "INFO:detectron2.evaluation.evaluator:Inference done 532/730. Dataloading: 0.0077 s/iter. Inference: 0.0967 s/iter. Eval: 0.0126 s/iter. Total: 0.1171 s/iter. ETA=0:00:23\n",
      "INFO:detectron2.evaluation.evaluator:Inference done 567/730. Dataloading: 0.0077 s/iter. Inference: 0.0979 s/iter. Eval: 0.0131 s/iter. Total: 0.1188 s/iter. ETA=0:00:19\n",
      "INFO:detectron2.evaluation.evaluator:Inference done 613/730. Dataloading: 0.0077 s/iter. Inference: 0.0974 s/iter. Eval: 0.0129 s/iter. Total: 0.1181 s/iter. ETA=0:00:13\n",
      "INFO:detectron2.evaluation.evaluator:Inference done 660/730. Dataloading: 0.0075 s/iter. Inference: 0.0972 s/iter. Eval: 0.0124 s/iter. Total: 0.1173 s/iter. ETA=0:00:08\n",
      "INFO:detectron2.evaluation.evaluator:Inference done 709/730. Dataloading: 0.0076 s/iter. Inference: 0.0966 s/iter. Eval: 0.0119 s/iter. Total: 0.1163 s/iter. ETA=0:00:02\n",
      "INFO:detectron2.evaluation.evaluator:Total inference time: 0:01:23.993729 (0.115853 s / iter per device, on 1 devices)\n",
      "INFO:detectron2.evaluation.evaluator:Total inference pure compute time: 0:01:09 (0.096227 s / iter per device, on 1 devices)\n",
      "INFO:detectron2.evaluation.coco_evaluation:Preparing results for COCO format ...\n",
      "INFO:detectron2.evaluation.coco_evaluation:Saving results to output_dfCERA_49vs97/fold4/coco_instances_results.json\n",
      "INFO:detectron2.evaluation.coco_evaluation:Annotations are not available for evaluation.\n",
      "INFO:fvcore.common.checkpoint:[Checkpointer] Loading from output_valid_fold5/model_final.pth ...\n",
      "INFO:detectron2.evaluation.evaluator:Start inference on 730 batches\n",
      "INFO:detectron2.evaluation.evaluator:Inference done 12/730. Dataloading: 0.0088 s/iter. Inference: 0.1104 s/iter. Eval: 0.0100 s/iter. Total: 0.1292 s/iter. ETA=0:01:32\n",
      "INFO:detectron2.evaluation.evaluator:Inference done 55/730. Dataloading: 0.0047 s/iter. Inference: 0.1034 s/iter. Eval: 0.0133 s/iter. Total: 0.1216 s/iter. ETA=0:01:22\n",
      "INFO:detectron2.evaluation.evaluator:Inference done 98/730. Dataloading: 0.0043 s/iter. Inference: 0.1017 s/iter. Eval: 0.0141 s/iter. Total: 0.1204 s/iter. ETA=0:01:16\n",
      "INFO:detectron2.evaluation.evaluator:Inference done 141/730. Dataloading: 0.0042 s/iter. Inference: 0.1016 s/iter. Eval: 0.0133 s/iter. Total: 0.1195 s/iter. ETA=0:01:10\n",
      "INFO:detectron2.evaluation.evaluator:Inference done 183/730. Dataloading: 0.0044 s/iter. Inference: 0.1021 s/iter. Eval: 0.0128 s/iter. Total: 0.1196 s/iter. ETA=0:01:05\n",
      "INFO:detectron2.evaluation.evaluator:Inference done 227/730. Dataloading: 0.0044 s/iter. Inference: 0.1016 s/iter. Eval: 0.0126 s/iter. Total: 0.1190 s/iter. ETA=0:00:59\n",
      "INFO:detectron2.evaluation.evaluator:Inference done 272/730. Dataloading: 0.0044 s/iter. Inference: 0.1007 s/iter. Eval: 0.0124 s/iter. Total: 0.1178 s/iter. ETA=0:00:53\n",
      "INFO:detectron2.evaluation.evaluator:Inference done 317/730. Dataloading: 0.0047 s/iter. Inference: 0.0997 s/iter. Eval: 0.0124 s/iter. Total: 0.1170 s/iter. ETA=0:00:48\n",
      "INFO:detectron2.evaluation.evaluator:Inference done 361/730. Dataloading: 0.0053 s/iter. Inference: 0.0989 s/iter. Eval: 0.0123 s/iter. Total: 0.1169 s/iter. ETA=0:00:43\n",
      "INFO:detectron2.evaluation.evaluator:Inference done 406/730. Dataloading: 0.0055 s/iter. Inference: 0.0983 s/iter. Eval: 0.0121 s/iter. Total: 0.1162 s/iter. ETA=0:00:37\n",
      "INFO:detectron2.evaluation.evaluator:Inference done 448/730. Dataloading: 0.0055 s/iter. Inference: 0.0986 s/iter. Eval: 0.0122 s/iter. Total: 0.1166 s/iter. ETA=0:00:32\n",
      "INFO:detectron2.evaluation.evaluator:Inference done 494/730. Dataloading: 0.0056 s/iter. Inference: 0.0978 s/iter. Eval: 0.0124 s/iter. Total: 0.1160 s/iter. ETA=0:00:27\n",
      "INFO:detectron2.evaluation.evaluator:Inference done 539/730. Dataloading: 0.0058 s/iter. Inference: 0.0973 s/iter. Eval: 0.0124 s/iter. Total: 0.1158 s/iter. ETA=0:00:22\n",
      "INFO:detectron2.evaluation.evaluator:Inference done 582/730. Dataloading: 0.0058 s/iter. Inference: 0.0971 s/iter. Eval: 0.0127 s/iter. Total: 0.1158 s/iter. ETA=0:00:17\n",
      "INFO:detectron2.evaluation.evaluator:Inference done 627/730. Dataloading: 0.0061 s/iter. Inference: 0.0965 s/iter. Eval: 0.0127 s/iter. Total: 0.1156 s/iter. ETA=0:00:11\n",
      "INFO:detectron2.evaluation.evaluator:Inference done 674/730. Dataloading: 0.0062 s/iter. Inference: 0.0961 s/iter. Eval: 0.0126 s/iter. Total: 0.1151 s/iter. ETA=0:00:06\n",
      "INFO:detectron2.evaluation.evaluator:Inference done 719/730. Dataloading: 0.0063 s/iter. Inference: 0.0960 s/iter. Eval: 0.0125 s/iter. Total: 0.1150 s/iter. ETA=0:00:01\n",
      "INFO:detectron2.evaluation.evaluator:Total inference time: 0:01:23.520099 (0.115200 s / iter per device, on 1 devices)\n",
      "INFO:detectron2.evaluation.evaluator:Total inference pure compute time: 0:01:09 (0.095859 s / iter per device, on 1 devices)\n",
      "INFO:detectron2.evaluation.coco_evaluation:Preparing results for COCO format ...\n",
      "INFO:detectron2.evaluation.coco_evaluation:Saving results to output_dfCERA_49vs97/fold5/coco_instances_results.json\n",
      "INFO:detectron2.evaluation.coco_evaluation:Annotations are not available for evaluation.\n"
     ]
    }
   ],
   "source": [
    "\n",
    "#%%script false --no-raise-error\n",
    "import logging\n",
    "logging.basicConfig(level=logging.INFO)\n",
    "from detectron2.modeling import build_model\n",
    "from detectron2.data import build_detection_test_loader\n",
    "from detectron2.checkpoint import DetectionCheckpointer\n",
    "from detectron2.evaluation import inference_on_dataset, COCOEvaluator\n",
    "\n",
    "def predict_func(cfg,dataset_name):\n",
    "\n",
    "    model = build_model(cfg)  # returns a torch.nn.Module\n",
    "    myloader = build_detection_test_loader(cfg,dataset_name)    \n",
    "    myeval = COCOEvaluator(dataset_name,tasks={'bbox','segm'},output_dir =\"output_\"+ dataset_name) #produces _coco_format.json when initialized\n",
    "\n",
    "\n",
    "    for mdl in (\"fold1\", \"fold2\", \"fold3\", \"fold4\",\"fold5\"):\n",
    "    # for mdl in ([\"fold5\"]): #evaluating only on fold5 model to speed up inference since this model evaluated closest to the ensemble for the internal test set\n",
    "    \n",
    "        #build model\n",
    "        model_weights_path = \"output_valid_\"+ mdl +\"/model_final.pth\"\n",
    "        DetectionCheckpointer(model).load(model_weights_path);  # load a file, usually from cfg.MODEL.WEIGHTS\n",
    "        model.eval(); #set model in evaluation mode\n",
    "        myeval.reset()\n",
    "        output_dir = \"output_\"+ dataset_name + \"/\"+mdl\n",
    "        myeval._output_dir = output_dir\n",
    "        results_i = inference_on_dataset(model, myloader, myeval) #produces coco_instance_results.json when myeval.evaluate is called\n",
    "    \n",
    "    return\n",
    "\n",
    "predict_func(cfg,dataset_name)"
   ]
  },
  {
   "cell_type": "markdown",
   "metadata": {},
   "source": [
    "# Ensembling "
   ]
  },
  {
   "cell_type": "code",
   "execution_count": 9,
   "metadata": {
    "tags": []
   },
   "outputs": [
    {
     "name": "stdout",
     "output_type": "stream",
     "text": [
      "loading annotations into memory...\n",
      "Done (t=0.00s)\n",
      "creating index...\n",
      "index created!\n",
      "Loading and preparing results...\n",
      "DONE (t=0.02s)\n",
      "creating index...\n",
      "index created!\n",
      "Successfully loaded output_dfCERA_49vs97/fold1/coco_instances_results.json into memory. 5402 instance detected.\n",
      "\n",
      "Loading and preparing results...\n",
      "DONE (t=0.02s)\n",
      "creating index...\n",
      "index created!\n",
      "Successfully loaded output_dfCERA_49vs97/fold2/coco_instances_results.json into memory. 5053 instance detected.\n",
      "\n",
      "Loading and preparing results...\n",
      "DONE (t=0.15s)\n",
      "creating index...\n",
      "index created!\n",
      "Successfully loaded output_dfCERA_49vs97/fold3/coco_instances_results.json into memory. 5325 instance detected.\n",
      "\n",
      "Loading and preparing results...\n",
      "DONE (t=0.02s)\n",
      "creating index...\n",
      "index created!\n",
      "Successfully loaded output_dfCERA_49vs97/fold4/coco_instances_results.json into memory. 4670 instance detected.\n",
      "\n",
      "Loading and preparing results...\n",
      "DONE (t=0.03s)\n",
      "creating index...\n",
      "index created!\n",
      "Successfully loaded output_dfCERA_49vs97/fold5/coco_instances_results.json into memory. 5442 instance detected.\n",
      "\n",
      "Working with 5 models, 1 categories, and 730 images.\n",
      "Computing mean score non-max suppression ensembling for 730 images.\n"
     ]
    },
    {
     "name": "stderr",
     "output_type": "stream",
     "text": [
      "100%|██████████| 730/730 [00:10<00:00, 67.70it/s]"
     ]
    },
    {
     "name": "stdout",
     "output_type": "stream",
     "text": [
      "6708 resulting instances from NMS\n"
     ]
    },
    {
     "name": "stderr",
     "output_type": "stream",
     "text": [
      "\n"
     ]
    }
   ],
   "source": [
    "#%%script false --no-raise-error\n",
    "from Ensembler import Ensembler\n",
    "ens = Ensembler('output_'+dataset_name,dataset_name,[\"fold1\", \"fold2\", \"fold3\", \"fold4\",\"fold5\"],.2)\n",
    "ens.mean_score_nms()\n",
    "ens.save_coco_instances()"
   ]
  },
  {
   "cell_type": "markdown",
   "metadata": {},
   "source": [
    "# Evaluation"
   ]
  },
  {
   "cell_type": "markdown",
   "metadata": {},
   "source": [
    "## Ensemble"
   ]
  },
  {
   "cell_type": "code",
   "execution_count": 5,
   "metadata": {
    "tags": []
   },
   "outputs": [
    {
     "name": "stderr",
     "output_type": "stream",
     "text": [
      "Using previously cached COCO format annotations at 'output_test/test_coco_format.json'. You need to clear the cache file if your dataset has been modified.\n"
     ]
    },
    {
     "name": "stdout",
     "output_type": "stream",
     "text": [
      "loading annotations into memory...\n",
      "Done (t=0.01s)\n",
      "creating index...\n",
      "index created!\n",
      "Loading and preparing results...\n",
      "DONE (t=0.22s)\n",
      "creating index...\n",
      "index created!\n",
      "Calculated metrics for 1960 images\n",
      "Running per image evaluation...\n",
      "Evaluate annotation type *segm*\n",
      "DONE (t=0.17s).\n",
      "Accumulating evaluation results...\n",
      "DONE (t=0.01s).\n"
     ]
    },
    {
     "data": {
      "text/plain": [
       "(0.6388400702987698, 0.6900000000000001)"
      ]
     },
     "execution_count": 5,
     "metadata": {},
     "output_type": "execute_result"
    }
   ],
   "source": [
    "from analysis_lib import EvaluateClass,CreatePlotsRPD\n",
    "import json\n",
    "import matplotlib.pyplot as plt\n",
    "#evaluate ensemble\n",
    "dataset_name = \"test\"\n",
    "myeval = EvaluateClass(\n",
    "    dataset_name, \"output_\"+ dataset_name,iou_thresh = .2,prob_thresh=0.5,evalsuper=False)\n",
    "myeval.evaluate()\n"
   ]
  },
  {
   "cell_type": "code",
   "execution_count": 6,
   "id": "0ed10994",
   "metadata": {},
   "outputs": [
    {
     "name": "stdout",
     "output_type": "stream",
     "text": [
      "{'dataset': 'test', 'precision': 0.6388400702987698, 'precision_ci': (0.6105330907245708, 0.6662144591819852), 'recall': 0.6900000000000001, 'recall_ci': (0.6613750455776731, 0.7172397291664632), 'f1': 0.6634352144529234, 'f1_ci': (0.6436035547117265, 0.6832668741941204), 'fpr': 0.04431137724550898, 'fpr_ci': (0.03544331230466729, 0.055271125668436026), 'iou': 0.2, 'probability': 0.5}\n"
     ]
    },
    {
     "data": {
      "image/png": "[encoded data removed]",
      "text/plain": [
       "<Figure size 432x288 with 1 Axes>"
      ]
     },
     "metadata": {
      "needs_background": "light"
     },
     "output_type": "display_data"
    },
    {
     "data": {
      "image/png": "[encoded data removed]",
      "text/plain": [
       "<Figure size 432x288 with 1 Axes>"
      ]
     },
     "metadata": {
      "needs_background": "light"
     },
     "output_type": "display_data"
    }
   ],
   "source": [
    "\n",
    "\n",
    "%precision 3\n",
    "print(myeval.summarize_scalars())\n",
    "with open(os.path.join(\"output_\"+ dataset_name,'scalar_dict.json'),\"w\") as outfile:\n",
    "    json.dump(obj=myeval.summarize_scalars(),fp=outfile)\n",
    "num_images = myeval.num_images\n",
    "myeval.plot_PRcurve()\n",
    "plt.tight_layout()\n",
    "myeval.plot_recall_vs_prob()\n",
    "plt.tight_layout()\n"
   ]
  },
  {
   "cell_type": "code",
   "execution_count": 12,
   "id": "c394be5e",
   "metadata": {},
   "outputs": [
    {
     "data": {
      "image/png": "[encoded data removed]",
      "text/plain": [
       "<Figure size 720x360 with 2 Axes>"
      ]
     },
     "metadata": {
      "needs_background": "light"
     },
     "output_type": "display_data"
    }
   ],
   "source": [
    "\n",
    "RPDplt = CreatePlotsRPD.initfromcoco(myeval.mycoco,myeval.prob_thresh)\n",
    "RPDplt.gt_dt_FP_FN_count();\n",
    "RPDplt.dfimg.to_csv('output_' + dataset_name + '/dfimg.csv')\n",
    "RPDplt.dfpts.to_csv('output_' + dataset_name + '/dfpts.csv')\n"
   ]
  },
  {
   "cell_type": "markdown",
   "metadata": {},
   "source": [
    "## Individual Models"
   ]
  },
  {
   "cell_type": "code",
   "execution_count": 7,
   "metadata": {},
   "outputs": [
    {
     "name": "stdout",
     "output_type": "stream",
     "text": [
      "loading annotations into memory...\n",
      "Done (t=0.01s)\n",
      "creating index...\n",
      "index created!\n",
      "Loading and preparing results...\n",
      "DONE (t=0.03s)\n",
      "creating index...\n",
      "index created!\n",
      "Calculated metrics for 1960 images\n",
      "Running per image evaluation...\n",
      "Evaluate annotation type *segm*\n",
      "DONE (t=0.27s).\n",
      "Accumulating evaluation results...\n",
      "DONE (t=0.01s).\n",
      "{'dataset': 'test', 'precision': 0.6124595469255664, 'precision_ci': (0.5850905041906551, 0.6391367091281999), 'recall': 0.72, 'recall_ci': (0.6920771570798393, 0.7463188978870552), 'f1': 0.6618900735919171, 'f1_ci': (0.6423593930717971, 0.6814207541120371), 'fpr': 0.046706586826347304, 'fpr_ci': (0.037584700763945544, 0.05790916197671044), 'iou': 0.2, 'probability': 0.5}\n",
      "loading annotations into memory...\n",
      "Done (t=0.01s)\n",
      "creating index...\n",
      "index created!\n",
      "Loading and preparing results...\n",
      "DONE (t=0.03s)\n",
      "creating index...\n",
      "index created!\n",
      "Calculated metrics for 1960 images\n",
      "Running per image evaluation...\n",
      "Evaluate annotation type *segm*\n",
      "DONE (t=0.14s).\n",
      "Accumulating evaluation results...\n",
      "DONE (t=0.01s).\n",
      "{'dataset': 'test', 'precision': 0.6139917695473252, 'precision_ci': (0.5864244654853534, 0.6408469318474748), 'recall': 0.71, 'recall_ci': (0.6818271936359455, 0.7366417679233629), 'f1': 0.6585149038013242, 'f1_ci': (0.6388929151079383, 0.67813689249471), 'fpr': 0.04610778443113772, 'fpr_ci': (0.03704865936250059, 0.05725034718626723), 'iou': 0.2, 'probability': 0.5}\n",
      "loading annotations into memory...\n",
      "Done (t=0.01s)\n",
      "creating index...\n",
      "index created!\n",
      "Loading and preparing results...\n",
      "DONE (t=0.03s)\n",
      "creating index...\n",
      "index created!\n",
      "Calculated metrics for 1960 images\n",
      "Running per image evaluation...\n",
      "Evaluate annotation type *segm*\n",
      "DONE (t=0.15s).\n",
      "Accumulating evaluation results...\n",
      "DONE (t=0.01s).\n",
      "{'dataset': 'test', 'precision': 0.5850903614457831, 'precision_ci': (0.5584526285325525, 0.6112397869557628), 'recall': 0.74, 'recall_ci': (0.7126274449084701, 0.7656227968735967), 'f1': 0.6534903280067283, 'f1_ci': (0.6340274202163528, 0.6729532357971039), 'fpr': 0.04910179640718563, 'fpr_ci': (0.0397332768636361, 0.06054001064457257), 'iou': 0.2, 'probability': 0.5}\n",
      "loading annotations into memory...\n",
      "Done (t=0.01s)\n",
      "creating index...\n",
      "index created!\n",
      "Loading and preparing results...\n",
      "DONE (t=0.14s)\n",
      "creating index...\n",
      "index created!\n",
      "Calculated metrics for 1960 images\n",
      "Running per image evaluation...\n",
      "Evaluate annotation type *segm*\n",
      "DONE (t=0.14s).\n",
      "Accumulating evaluation results...\n",
      "DONE (t=0.01s).\n",
      "{'dataset': 'test', 'precision': 0.6927835051546392, 'precision_ci': (0.6633612230784547, 0.7207169127941252), 'recall': 0.64, 'recall_ci': (0.6105044093690961, 0.6684748983371096), 'f1': 0.6653465346534654, 'f1_ci': (0.6448127217589306, 0.6858803475480002), 'fpr': 0.038922155688622756, 'fpr_ci': (0.030654468486233915, 0.04930626375987588), 'iou': 0.2, 'probability': 0.5}\n",
      "loading annotations into memory...\n",
      "Done (t=0.01s)\n",
      "creating index...\n",
      "index created!\n",
      "Loading and preparing results...\n",
      "DONE (t=0.03s)\n",
      "creating index...\n",
      "index created!\n",
      "Calculated metrics for 1960 images\n",
      "Running per image evaluation...\n",
      "Evaluate annotation type *segm*\n",
      "DONE (t=0.15s).\n",
      "Accumulating evaluation results...\n",
      "DONE (t=0.01s).\n",
      "{'dataset': 'test', 'precision': 0.635407537248028, 'precision_ci': (0.6071058023586627, 0.6628029073652992), 'recall': 0.6900000000000001, 'recall_ci': (0.6613750455776731, 0.7172397291664632), 'f1': 0.6615794589662036, 'f1_ci': (0.6417322218113221, 0.6814266961210852), 'fpr': 0.04431137724550898, 'fpr_ci': (0.03544331230466729, 0.055271125668436026), 'iou': 0.2, 'probability': 0.5}\n"
     ]
    }
   ],
   "source": [
    "#evaluate individual models\n",
    "import json\n",
    "myeval.evalsuper=False\n",
    "for mdl in (\"fold1\", \"fold2\", \"fold3\", \"fold4\",\"fold5\"):\n",
    "    myeval.reset()\n",
    "    output_dir = \"output_\"+ dataset_name + \"/\"+mdl\n",
    "    myeval._output_dir = output_dir\n",
    "    myeval.evaluate()\n",
    "    print(myeval.summarize_scalars())\n",
    "    with open(os.path.join(output_dir,'scalar_dict.json'),\"w\") as outfile:\n",
    "        json.dump(obj=myeval.summarize_scalars(),fp=outfile)\n"
   ]
  },
  {
   "cell_type": "code",
   "execution_count": 12,
   "metadata": {},
   "outputs": [
    {
     "data": {
      "text/html": [
       "<style type=\"text/css\">\n",
       "#T_412bc_   {\n",
       "  margin: 0;\n",
       "  font-family: \"Helvetica\", \"Arial\", sans-serif;\n",
       "  border-collapse: collapse;\n",
       "  border: none;\n",
       "  border: 2px solid #ccf;\n",
       "}\n",
       "#T_412bc_ tbody tr:nth-child(even) {\n",
       "  background-color: #fff;\n",
       "}\n",
       "#T_412bc_ tbody tr:nth-child(odd) {\n",
       "  background-color: #eee;\n",
       "}\n",
       "#T_412bc_ td {\n",
       "  padding: .5em;\n",
       "  text-align: center;\n",
       "}\n",
       "#T_412bc_ th {\n",
       "  font-size: 125%;\n",
       "  text-align: center;\n",
       "}\n",
       "#T_412bc_ caption {\n",
       "  caption-side: bottom;\n",
       "}\n",
       "#T_412bc_ tbody tr:hover {\n",
       "  background-color: #add8e6;\n",
       "}\n",
       "</style>\n",
       "<table id=\"T_412bc_\" style=\"font-size: 17px\">\n",
       "  <thead>\n",
       "    <tr>\n",
       "      <th class=\"blank level0\" >&nbsp;</th>\n",
       "      <th class=\"col_heading level0 col0\" >model</th>\n",
       "      <th class=\"col_heading level0 col1\" >dataset</th>\n",
       "      <th class=\"col_heading level0 col2\" >precision</th>\n",
       "      <th class=\"col_heading level0 col3\" >precision_ci</th>\n",
       "      <th class=\"col_heading level0 col4\" >recall</th>\n",
       "      <th class=\"col_heading level0 col5\" >recall_ci</th>\n",
       "      <th class=\"col_heading level0 col6\" >f1</th>\n",
       "      <th class=\"col_heading level0 col7\" >f1_ci</th>\n",
       "      <th class=\"col_heading level0 col8\" >fpr</th>\n",
       "      <th class=\"col_heading level0 col9\" >fpr_ci</th>\n",
       "      <th class=\"col_heading level0 col10\" >fp</th>\n",
       "      <th class=\"col_heading level0 col11\" >iou</th>\n",
       "      <th class=\"col_heading level0 col12\" >probability</th>\n",
       "    </tr>\n",
       "  </thead>\n",
       "  <tbody>\n",
       "    <tr>\n",
       "      <th id=\"T_412bc_level0_row0\" class=\"row_heading level0 row0\" >0</th>\n",
       "      <td id=\"T_412bc_row0_col0\" class=\"data row0 col0\" >1</td>\n",
       "      <td id=\"T_412bc_row0_col1\" class=\"data row0 col1\" >test</td>\n",
       "      <td id=\"T_412bc_row0_col2\" class=\"data row0 col2\" >0.612</td>\n",
       "      <td id=\"T_412bc_row0_col3\" class=\"data row0 col3\" >[0.585, 0.639]</td>\n",
       "      <td id=\"T_412bc_row0_col4\" class=\"data row0 col4\" >0.720</td>\n",
       "      <td id=\"T_412bc_row0_col5\" class=\"data row0 col5\" >[0.692, 0.746]</td>\n",
       "      <td id=\"T_412bc_row0_col6\" class=\"data row0 col6\" >0.662</td>\n",
       "      <td id=\"T_412bc_row0_col7\" class=\"data row0 col7\" >[0.642, 0.681]</td>\n",
       "      <td id=\"T_412bc_row0_col8\" class=\"data row0 col8\" >0.047</td>\n",
       "      <td id=\"T_412bc_row0_col9\" class=\"data row0 col9\" >[0.038, 0.058]</td>\n",
       "      <td id=\"T_412bc_row0_col10\" class=\"data row0 col10\" >91</td>\n",
       "      <td id=\"T_412bc_row0_col11\" class=\"data row0 col11\" >0.200</td>\n",
       "      <td id=\"T_412bc_row0_col12\" class=\"data row0 col12\" >0.500</td>\n",
       "    </tr>\n",
       "    <tr>\n",
       "      <th id=\"T_412bc_level0_row1\" class=\"row_heading level0 row1\" >1</th>\n",
       "      <td id=\"T_412bc_row1_col0\" class=\"data row1 col0\" >2</td>\n",
       "      <td id=\"T_412bc_row1_col1\" class=\"data row1 col1\" >test</td>\n",
       "      <td id=\"T_412bc_row1_col2\" class=\"data row1 col2\" >0.614</td>\n",
       "      <td id=\"T_412bc_row1_col3\" class=\"data row1 col3\" >[0.586, 0.641]</td>\n",
       "      <td id=\"T_412bc_row1_col4\" class=\"data row1 col4\" >0.710</td>\n",
       "      <td id=\"T_412bc_row1_col5\" class=\"data row1 col5\" >[0.682, 0.737]</td>\n",
       "      <td id=\"T_412bc_row1_col6\" class=\"data row1 col6\" >0.659</td>\n",
       "      <td id=\"T_412bc_row1_col7\" class=\"data row1 col7\" >[0.639, 0.678]</td>\n",
       "      <td id=\"T_412bc_row1_col8\" class=\"data row1 col8\" >0.046</td>\n",
       "      <td id=\"T_412bc_row1_col9\" class=\"data row1 col9\" >[0.037, 0.057]</td>\n",
       "      <td id=\"T_412bc_row1_col10\" class=\"data row1 col10\" >90</td>\n",
       "      <td id=\"T_412bc_row1_col11\" class=\"data row1 col11\" >0.200</td>\n",
       "      <td id=\"T_412bc_row1_col12\" class=\"data row1 col12\" >0.500</td>\n",
       "    </tr>\n",
       "    <tr>\n",
       "      <th id=\"T_412bc_level0_row2\" class=\"row_heading level0 row2\" >2</th>\n",
       "      <td id=\"T_412bc_row2_col0\" class=\"data row2 col0\" >3</td>\n",
       "      <td id=\"T_412bc_row2_col1\" class=\"data row2 col1\" >test</td>\n",
       "      <td id=\"T_412bc_row2_col2\" class=\"data row2 col2\" >0.585</td>\n",
       "      <td id=\"T_412bc_row2_col3\" class=\"data row2 col3\" >[0.558, 0.611]</td>\n",
       "      <td id=\"T_412bc_row2_col4\" class=\"data row2 col4\" >0.740</td>\n",
       "      <td id=\"T_412bc_row2_col5\" class=\"data row2 col5\" >[0.713, 0.766]</td>\n",
       "      <td id=\"T_412bc_row2_col6\" class=\"data row2 col6\" >0.653</td>\n",
       "      <td id=\"T_412bc_row2_col7\" class=\"data row2 col7\" >[0.634, 0.673]</td>\n",
       "      <td id=\"T_412bc_row2_col8\" class=\"data row2 col8\" >0.049</td>\n",
       "      <td id=\"T_412bc_row2_col9\" class=\"data row2 col9\" >[0.04, 0.061]</td>\n",
       "      <td id=\"T_412bc_row2_col10\" class=\"data row2 col10\" >96</td>\n",
       "      <td id=\"T_412bc_row2_col11\" class=\"data row2 col11\" >0.200</td>\n",
       "      <td id=\"T_412bc_row2_col12\" class=\"data row2 col12\" >0.500</td>\n",
       "    </tr>\n",
       "    <tr>\n",
       "      <th id=\"T_412bc_level0_row3\" class=\"row_heading level0 row3\" >3</th>\n",
       "      <td id=\"T_412bc_row3_col0\" class=\"data row3 col0\" >4</td>\n",
       "      <td id=\"T_412bc_row3_col1\" class=\"data row3 col1\" >test</td>\n",
       "      <td id=\"T_412bc_row3_col2\" class=\"data row3 col2\" >0.693</td>\n",
       "      <td id=\"T_412bc_row3_col3\" class=\"data row3 col3\" >[0.663, 0.721]</td>\n",
       "      <td id=\"T_412bc_row3_col4\" class=\"data row3 col4\" >0.640</td>\n",
       "      <td id=\"T_412bc_row3_col5\" class=\"data row3 col5\" >[0.611, 0.668]</td>\n",
       "      <td id=\"T_412bc_row3_col6\" class=\"data row3 col6\" >0.665</td>\n",
       "      <td id=\"T_412bc_row3_col7\" class=\"data row3 col7\" >[0.645, 0.686]</td>\n",
       "      <td id=\"T_412bc_row3_col8\" class=\"data row3 col8\" >0.039</td>\n",
       "      <td id=\"T_412bc_row3_col9\" class=\"data row3 col9\" >[0.031, 0.049]</td>\n",
       "      <td id=\"T_412bc_row3_col10\" class=\"data row3 col10\" >76</td>\n",
       "      <td id=\"T_412bc_row3_col11\" class=\"data row3 col11\" >0.200</td>\n",
       "      <td id=\"T_412bc_row3_col12\" class=\"data row3 col12\" >0.500</td>\n",
       "    </tr>\n",
       "    <tr>\n",
       "      <th id=\"T_412bc_level0_row4\" class=\"row_heading level0 row4\" >4</th>\n",
       "      <td id=\"T_412bc_row4_col0\" class=\"data row4 col0\" >5</td>\n",
       "      <td id=\"T_412bc_row4_col1\" class=\"data row4 col1\" >test</td>\n",
       "      <td id=\"T_412bc_row4_col2\" class=\"data row4 col2\" >0.635</td>\n",
       "      <td id=\"T_412bc_row4_col3\" class=\"data row4 col3\" >[0.607, 0.663]</td>\n",
       "      <td id=\"T_412bc_row4_col4\" class=\"data row4 col4\" >0.690</td>\n",
       "      <td id=\"T_412bc_row4_col5\" class=\"data row4 col5\" >[0.661, 0.717]</td>\n",
       "      <td id=\"T_412bc_row4_col6\" class=\"data row4 col6\" >0.662</td>\n",
       "      <td id=\"T_412bc_row4_col7\" class=\"data row4 col7\" >[0.642, 0.681]</td>\n",
       "      <td id=\"T_412bc_row4_col8\" class=\"data row4 col8\" >0.044</td>\n",
       "      <td id=\"T_412bc_row4_col9\" class=\"data row4 col9\" >[0.035, 0.055]</td>\n",
       "      <td id=\"T_412bc_row4_col10\" class=\"data row4 col10\" >86</td>\n",
       "      <td id=\"T_412bc_row4_col11\" class=\"data row4 col11\" >0.200</td>\n",
       "      <td id=\"T_412bc_row4_col12\" class=\"data row4 col12\" >0.500</td>\n",
       "    </tr>\n",
       "    <tr>\n",
       "      <th id=\"T_412bc_level0_row5\" class=\"row_heading level0 row5\" >5</th>\n",
       "      <td id=\"T_412bc_row5_col0\" class=\"data row5 col0\" >ensemble</td>\n",
       "      <td id=\"T_412bc_row5_col1\" class=\"data row5 col1\" >test</td>\n",
       "      <td id=\"T_412bc_row5_col2\" class=\"data row5 col2\" >0.639</td>\n",
       "      <td id=\"T_412bc_row5_col3\" class=\"data row5 col3\" >[0.611, 0.666]</td>\n",
       "      <td id=\"T_412bc_row5_col4\" class=\"data row5 col4\" >0.690</td>\n",
       "      <td id=\"T_412bc_row5_col5\" class=\"data row5 col5\" >[0.661, 0.717]</td>\n",
       "      <td id=\"T_412bc_row5_col6\" class=\"data row5 col6\" >0.663</td>\n",
       "      <td id=\"T_412bc_row5_col7\" class=\"data row5 col7\" >[0.644, 0.683]</td>\n",
       "      <td id=\"T_412bc_row5_col8\" class=\"data row5 col8\" >0.044</td>\n",
       "      <td id=\"T_412bc_row5_col9\" class=\"data row5 col9\" >[0.035, 0.055]</td>\n",
       "      <td id=\"T_412bc_row5_col10\" class=\"data row5 col10\" >86</td>\n",
       "      <td id=\"T_412bc_row5_col11\" class=\"data row5 col11\" >0.200</td>\n",
       "      <td id=\"T_412bc_row5_col12\" class=\"data row5 col12\" >0.500</td>\n",
       "    </tr>\n",
       "  </tbody>\n",
       "</table>\n"
      ],
      "text/plain": [
       "<pandas.io.formats.style.Styler at 0x7f0c8f16e110>"
      ]
     },
     "execution_count": 12,
     "metadata": {},
     "output_type": "execute_result"
    }
   ],
   "source": [
    "import json, os\n",
    "import pandas as pd\n",
    "import numpy as np\n",
    "from table_styles import styles\n",
    "mydicts=[]\n",
    "\n",
    "for mdl in ['fold1','fold2','fold3','fold4','fold5']:\n",
    "    output_dir = \"output_\"+ dataset_name + \"/\"+mdl\n",
    "    with open(os.path.join(output_dir,'scalar_dict.json')) as f:\n",
    "        mydicts.append(json.load(f))\n",
    "with open(os.path.join(\"output_\"+ dataset_name,'scalar_dict.json')) as f:\n",
    "    mydicts.append(json.load(f))\n",
    "dfr = pd.DataFrame(mydicts)\n",
    "dfr = dfr.assign(fp = np.int32(dfr.fpr*num_images))\n",
    "#dfr = dfr.assign(f1 = 2*(dfr.precision*dfr.recall)/(dfr.precision + dfr.recall))\n",
    "dfr = dfr.assign(model = ['1','2','3','4','5','ensemble'])\n",
    "# dfr = dfr[['model','fpr','fp','probability','dataset']]\n",
    "dfr['precision_ci'] = dfr['precision_ci'].apply(lambda x: pd.Interval(np.round(x[0],3),np.round(x[1],3),closed='both'))\n",
    "dfr['recall_ci'] = dfr['recall_ci'].apply(lambda x: pd.Interval(np.round(x[0],3),np.round(x[1],3),closed='both'))\n",
    "dfr['f1_ci'] = dfr['f1_ci'].apply(lambda x: pd.Interval(np.round(x[0],3),np.round(x[1],3),closed='both'))\n",
    "dfr['fpr_ci'] = dfr['fpr_ci'].apply(lambda x: pd.Interval(np.round(x[0],3),np.round(x[1],3),closed='both'))\n",
    "dfr = dfr[['model','dataset','precision','precision_ci','recall','recall_ci','f1','f1_ci','fpr','fpr_ci','fp','iou','probability']]\n",
    "pd.set_option('display.precision',3)\n",
    "dfr.style.set_table_styles(styles).set_table_attributes('style=\"font-size: 17px\"')"
   ]
  },
  {
   "cell_type": "markdown",
   "metadata": {},
   "source": [
    "# Visualize Output"
   ]
  },
  {
   "cell_type": "code",
   "execution_count": 11,
   "metadata": {
    "tags": []
   },
   "outputs": [
    {
     "name": "stderr",
     "output_type": "stream",
     "text": [
      "100%|██████████| 50/50 [00:39<00:00,  1.28it/s]\n"
     ]
    }
   ],
   "source": [
    "\n",
    "from plain_train_net import OutputVis\n",
    "\n",
    "dataset_name = \"dfeval_train_v2\"\n",
    "pred_file = \"output_\"+ dataset_name + \"/coco_instances_results.json\"\n",
    "out_file = os.path.join(\"output_\"+ dataset_name,'mean_score_nms_'+dataset_name+'.pdf')\n",
    "\n",
    "# mdl = 'fold1'\n",
    "# pred_file = os.path.join(\"output_\"+ dataset_name,mdl,\"coco_instances_results.json\")\n",
    "# out_file = os.path.join(\"output_\"+ dataset_name,'mean_score_nms_'+mdl+'.pdf')\n",
    "\n",
    "# vis = OutputVis(dataset_name,prob_thresh = 0.5,pred_mode='file',pred_file=pred_file,has_annotations=False)\n",
    "# ImgIds = RPDplt.dfimg.index[RPDplt.dfimg.dt_instances>0] #np.abs(df.gt_xpxs-df.dt_xpxs).sort_values(ascending=False).index[0:50].values\n",
    "# vis.output_to_pdf(ImgIds,out_file)\n",
    "\n",
    "df = RPDplt.dfimg\n",
    "\n",
    "vis = OutputVis(dataset_name,prob_thresh = 0.5,pred_mode='file',pred_file=pred_file,has_annotations=False)\n",
    "ImgIds = RPDplt.dfimg[RPDplt.dfimg.dt_instances>0].sample(50).index.values\n",
    "#ImgIds = np.abs(df.gt_xpxs-df.dt_xpxs).sort_values(ascending=False).index[0:10].values\n",
    "vis.output_to_pdf(ImgIds,out_file,df)\n"
   ]
  },
  {
   "cell_type": "code",
   "execution_count": 10,
   "id": "bbf1857b",
   "metadata": {},
   "outputs": [
    {
     "data": {
      "text/plain": [
       "Text(0, 0.5, 'Number of eye volumes')"
      ]
     },
     "execution_count": 10,
     "metadata": {},
     "output_type": "execute_result"
    },
    {
     "data": {
      "image/png": "[encoded data removed]",
      "text/plain": [
       "<Figure size 432x288 with 1 Axes>"
      ]
     },
     "metadata": {
      "needs_background": "light"
     },
     "output_type": "display_data"
    }
   ],
   "source": [
    "RPDplt.dfpts.dt_instances.hist(bins=range(0,60,1),log=False)\n",
    "plt.xlabel('RPD instances in eye volume')\n",
    "plt.ylabel('Number of eye volumes')"
   ]
  },
  {
   "cell_type": "code",
   "execution_count": 28,
   "metadata": {},
   "outputs": [],
   "source": [
    "from table_styles import styles\n",
    "dfpts = RPDplt.dfpts.sort_values(by=['dt_instances'],ascending=False)\n",
    "html_str = dfpts.style.format('{:.0f}').set_table_styles(styles).render()\n",
    "html_file = open(os.path.join('output_'+ dataset_name + '/dfpts_'+dataset_name+'.html'),'w')\n",
    "html_file.write(html_str)\n",
    "html_file.close()"
   ]
  },
  {
   "cell_type": "code",
   "execution_count": 34,
   "metadata": {},
   "outputs": [],
   "source": [
    "dfimg = RPDplt.dfimg.sort_index()\n",
    "html_str = dfimg.style.set_table_styles(styles).render()\n",
    "html_file = open(os.path.join('output_'+ dataset_name + '/dfimg_'+dataset_name+'.html'),'w')\n",
    "html_file.write(html_str)\n",
    "html_file.close()"
   ]
  },
  {
   "cell_type": "code",
   "execution_count": 11,
   "metadata": {},
   "outputs": [],
   "source": [
    "import pandas as pd\n",
    "dfpts_di = pd.read_csv('output_ext_test_dicom/dfpts_ext_test_dicom.csv')[['volID','dt_instances']]\n",
    "dfpts_vol = pd.read_csv('output_ext_test/dfpts_ext_test.csv')[['volID','dt_instances']]\n",
    "dfpts_vol['volID'] = dfpts_vol.volID.str.replace('OD','R')\n",
    "dfpts_vol['volID'] = dfpts_vol.volID.str.replace('OS','L')"
   ]
  },
  {
   "cell_type": "code",
   "execution_count": 13,
   "id": "887f7eb7",
   "metadata": {},
   "outputs": [
    {
     "data": {
      "text/html": [
       "<div>\n",
       "<style scoped>\n",
       "    .dataframe tbody tr th:only-of-type {\n",
       "        vertical-align: middle;\n",
       "    }\n",
       "\n",
       "    .dataframe tbody tr th {\n",
       "        vertical-align: top;\n",
       "    }\n",
       "\n",
       "    .dataframe thead th {\n",
       "        text-align: right;\n",
       "    }\n",
       "</style>\n",
       "<table border=\"1\" class=\"dataframe\">\n",
       "  <thead>\n",
       "    <tr style=\"text-align: right;\">\n",
       "      <th></th>\n",
       "      <th>volID</th>\n",
       "      <th>dt_instances_vol</th>\n",
       "      <th>dt_instances_dicom</th>\n",
       "      <th>difference</th>\n",
       "    </tr>\n",
       "  </thead>\n",
       "  <tbody>\n",
       "    <tr>\n",
       "      <th>0</th>\n",
       "      <td>101002_L</td>\n",
       "      <td>0.0</td>\n",
       "      <td>0.0</td>\n",
       "      <td>0.0</td>\n",
       "    </tr>\n",
       "    <tr>\n",
       "      <th>1</th>\n",
       "      <td>101007_R</td>\n",
       "      <td>1.0</td>\n",
       "      <td>1.0</td>\n",
       "      <td>0.0</td>\n",
       "    </tr>\n",
       "    <tr>\n",
       "      <th>2</th>\n",
       "      <td>101007_L</td>\n",
       "      <td>1.0</td>\n",
       "      <td>1.0</td>\n",
       "      <td>0.0</td>\n",
       "    </tr>\n",
       "    <tr>\n",
       "      <th>3</th>\n",
       "      <td>101021_R</td>\n",
       "      <td>83.0</td>\n",
       "      <td>89.0</td>\n",
       "      <td>-6.0</td>\n",
       "    </tr>\n",
       "    <tr>\n",
       "      <th>4</th>\n",
       "      <td>101021_L</td>\n",
       "      <td>136.0</td>\n",
       "      <td>157.0</td>\n",
       "      <td>-21.0</td>\n",
       "    </tr>\n",
       "    <tr>\n",
       "      <th>...</th>\n",
       "      <td>...</td>\n",
       "      <td>...</td>\n",
       "      <td>...</td>\n",
       "      <td>...</td>\n",
       "    </tr>\n",
       "    <tr>\n",
       "      <th>273</th>\n",
       "      <td>501011_L</td>\n",
       "      <td>1.0</td>\n",
       "      <td>1.0</td>\n",
       "      <td>0.0</td>\n",
       "    </tr>\n",
       "    <tr>\n",
       "      <th>274</th>\n",
       "      <td>501021_R</td>\n",
       "      <td>0.0</td>\n",
       "      <td>0.0</td>\n",
       "      <td>0.0</td>\n",
       "    </tr>\n",
       "    <tr>\n",
       "      <th>275</th>\n",
       "      <td>501021_L</td>\n",
       "      <td>0.0</td>\n",
       "      <td>0.0</td>\n",
       "      <td>0.0</td>\n",
       "    </tr>\n",
       "    <tr>\n",
       "      <th>276</th>\n",
       "      <td>501023_R</td>\n",
       "      <td>4.0</td>\n",
       "      <td>4.0</td>\n",
       "      <td>0.0</td>\n",
       "    </tr>\n",
       "    <tr>\n",
       "      <th>277</th>\n",
       "      <td>501023_L</td>\n",
       "      <td>6.0</td>\n",
       "      <td>7.0</td>\n",
       "      <td>-1.0</td>\n",
       "    </tr>\n",
       "  </tbody>\n",
       "</table>\n",
       "<p>278 rows × 4 columns</p>\n",
       "</div>"
      ],
      "text/plain": [
       "        volID  dt_instances_vol  dt_instances_dicom  difference\n",
       "0    101002_L               0.0                 0.0         0.0\n",
       "1    101007_R               1.0                 1.0         0.0\n",
       "2    101007_L               1.0                 1.0         0.0\n",
       "3    101021_R              83.0                89.0        -6.0\n",
       "4    101021_L             136.0               157.0       -21.0\n",
       "..        ...               ...                 ...         ...\n",
       "273  501011_L               1.0                 1.0         0.0\n",
       "274  501021_R               0.0                 0.0         0.0\n",
       "275  501021_L               0.0                 0.0         0.0\n",
       "276  501023_R               4.0                 4.0         0.0\n",
       "277  501023_L               6.0                 7.0        -1.0\n",
       "\n",
       "[278 rows x 4 columns]"
      ]
     },
     "execution_count": 13,
     "metadata": {},
     "output_type": "execute_result"
    },
    {
     "data": {
      "image/png": "[encoded data removed]",
      "text/plain": [
       "<Figure size 432x288 with 1 Axes>"
      ]
     },
     "metadata": {
      "needs_background": "light"
     },
     "output_type": "display_data"
    }
   ],
   "source": [
    "dfcompare = dfpts_vol.merge(dfpts_di,on='volID',suffixes=['_vol','_dicom'])\n",
    "(dfcompare.dt_instances_vol-dfcompare.dt_instances_dicom).hist(bins=50)\n",
    "dfcompare = dfcompare.assign(difference=(dfcompare.dt_instances_vol-dfcompare.dt_instances_dicom))\n"
   ]
  },
  {
   "cell_type": "code",
   "execution_count": 24,
   "id": "ceed86fa",
   "metadata": {},
   "outputs": [
    {
     "name": "stderr",
     "output_type": "stream",
     "text": [
      "/opt/conda/lib/python3.7/site-packages/seaborn/_decorators.py:43: FutureWarning: Pass the following variables as keyword args: x, y. From version 0.12, the only valid positional argument will be `data`, and passing other arguments without an explicit keyword will result in an error or misinterpretation.\n",
      "  FutureWarning\n"
     ]
    },
    {
     "data": {
      "image/png": "[encoded data removed]",
      "text/plain": [
       "<Figure size 720x480 with 1 Axes>"
      ]
     },
     "metadata": {
      "needs_background": "light"
     },
     "output_type": "display_data"
    }
   ],
   "source": [
    "import seaborn as sns\n",
    "ax = sns.scatterplot(dfcompare['dt_instances_vol'].values.astype(int),dfcompare['dt_instances_dicom'].values.astype(int))\n",
    "ax.set_xlabel('Vol')\n",
    "ax.set_ylabel('DICOM')\n",
    "ax.set_title('External Test Set RPD Per Volume')\n",
    "plt.gcf().__setattr__('dpi',120)\n"
   ]
  }
 ],
 "metadata": {
  "interpreter": {
   "hash": "b0122a9a100fde86447053a2d82169efd56332aef873a4abfb4540bf3c983ad4"
  },
  "kernelspec": {
   "display_name": "Python 3.7.10 64-bit ('detectron': conda)",
   "name": "python3"
  },
  "language_info": {
   "codemirror_mode": {
    "name": "ipython",
    "version": 3
   },
   "file_extension": ".py",
   "mimetype": "text/x-python",
   "name": "python",
   "nbconvert_exporter": "python",
   "pygments_lexer": "ipython3",
   "version": "3.7.12"
  }
 },
 "nbformat": 4,
 "nbformat_minor": 5
}
